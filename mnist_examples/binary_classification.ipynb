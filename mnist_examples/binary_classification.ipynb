{
 "cells": [
  {
   "cell_type": "code",
   "execution_count": 38,
   "id": "initial_id",
   "metadata": {
    "collapsed": true,
    "ExecuteTime": {
     "end_time": "2024-07-29T19:47:23.370296Z",
     "start_time": "2024-07-29T19:47:23.055307Z"
    }
   },
   "outputs": [],
   "source": [
    "# Imports\n",
    "from sklearn.datasets import fetch_openml\n",
    "import matplotlib.pyplot as plt\n",
    "from sklearn.linear_model import SGDClassifier\n",
    "from sklearn.ensemble import RandomForestClassifier\n",
    "from sklearn.model_selection import cross_val_score, cross_val_predict\n",
    "from sklearn.metrics import confusion_matrix, precision_score, recall_score, f1_score, roc_curve, precision_recall_curve\n",
    "import pandas as pd\n",
    "import numpy as np"
   ]
  },
  {
   "cell_type": "code",
   "outputs": [],
   "source": [
    "# Fetch Data\n",
    "mnist = fetch_openml('mnist_784', version=1)"
   ],
   "metadata": {
    "collapsed": false,
    "ExecuteTime": {
     "end_time": "2024-07-29T15:20:46.158158Z",
     "start_time": "2024-07-29T15:20:38.026157Z"
    }
   },
   "id": "816c2aa388f9586",
   "execution_count": 2
  },
  {
   "cell_type": "code",
   "outputs": [],
   "source": [
    "pixel_features = mnist['data']\n",
    "data_labels = mnist['target']"
   ],
   "metadata": {
    "collapsed": false,
    "ExecuteTime": {
     "end_time": "2024-07-29T15:20:46.173169Z",
     "start_time": "2024-07-29T15:20:46.162159Z"
    }
   },
   "id": "19e4fba3d4a52a09",
   "execution_count": 3
  },
  {
   "cell_type": "code",
   "outputs": [
    {
     "data": {
      "text/plain": "<Figure size 640x480 with 10 Axes>",
      "image/png": "[encoded data removed]"
     },
     "metadata": {},
     "output_type": "display_data"
    }
   ],
   "source": [
    "# View the Data\n",
    "fig = plt.figure()\n",
    "rows = 2\n",
    "columns = 5\n",
    "for i in range(rows * columns):\n",
    "    fig.add_subplot(rows, columns, i + 1)\n",
    "    # Each row corresponds to the pixels of the photo \n",
    "    # Need to reshape to a 28x28 array\n",
    "    plt.imshow(pixel_features.iloc[i].to_numpy().reshape(28, 28), cmap='binary')"
   ],
   "metadata": {
    "collapsed": false,
    "ExecuteTime": {
     "end_time": "2024-07-29T15:20:47.488157Z",
     "start_time": "2024-07-29T15:20:46.177159Z"
    }
   },
   "id": "44e3fe7b9f0a835b",
   "execution_count": 4
  },
  {
   "cell_type": "markdown",
   "source": [],
   "metadata": {
    "collapsed": false
   },
   "id": "c1be62d57c9cb373"
  },
  {
   "cell_type": "code",
   "outputs": [],
   "source": [
    "# Train, Holdout Set Split\n",
    "x_train = pixel_features.sample(frac=0.90, random_state=13)\n",
    "x_holdout = pixel_features.drop(x_train.index)\n",
    "y_train = data_labels.iloc[x_train.index]\n",
    "y_holdout = data_labels.drop(y_train.index)"
   ],
   "metadata": {
    "collapsed": false,
    "ExecuteTime": {
     "end_time": "2024-07-29T15:20:48.069344Z",
     "start_time": "2024-07-29T15:20:47.492159Z"
    }
   },
   "id": "d62d3f33bdba6cf6",
   "execution_count": 5
  },
  {
   "cell_type": "code",
   "outputs": [],
   "source": [
    "# Methods to Train Models\n",
    "\n",
    "def run_model_for_int(\n",
    "    train_labels: pd.Series,\n",
    "    target_int: int,\n",
    "    cv: int = 5,\n",
    "    scoring: str = 'accuracy'\n",
    "):\n",
    "    \"\"\"\n",
    "    Binary Classification model using Stochastic Gradient Descent.\n",
    "    Train and cross validate a model on a dataset targeting a single class.\n",
    "    \"\"\"\n",
    "    int_labels = (train_labels == str(target_int)) \n",
    "    # Train with Stochastic Gradient Descent\n",
    "    temp_model = SGDClassifier(random_state=13)\n",
    "    # model_score = np.mean(\n",
    "    #     cross_val_score(\n",
    "    #         estimator=temp_model,\n",
    "    #         X=x_train,\n",
    "    #         y=int_labels,\n",
    "    #         cv=cv,\n",
    "    #         scoring=scoring,\n",
    "    #     )\n",
    "    # )\n",
    "    return temp_model\n",
    "    # TODO: return model and run holdout test\n",
    "    # TODO: Add Confusion matrices (test and holdout)\n",
    "    return model_score\n",
    "    "
   ],
   "metadata": {
    "collapsed": false,
    "ExecuteTime": {
     "end_time": "2024-07-29T15:51:08.506126Z",
     "start_time": "2024-07-29T15:51:08.485084Z"
    }
   },
   "id": "7b704d72ba604ef8",
   "execution_count": 10
  },
  {
   "cell_type": "code",
   "outputs": [],
   "source": [
    "# Train a Stochastic Gradient Descent model for each integer in MNIST\n",
    "def get_int_labels(i: int, y_train):\n",
    "    return (y_train == str(i))\n",
    "    \n",
    "\n",
    "def run_sgd_model(i: int, y_train, x_train):\n",
    "    model_results = {}\n",
    "    \n",
    "    # Get target\n",
    "    int_labels = get_int_labels(i=i, y_train=y_train)\n",
    "\n",
    "    temp_model = SGDClassifier(random_state=13)\n",
    "    # temp_model.fit(x_train, int_labels)\n",
    "    model_results[str(i)] = {}\n",
    "  \n",
    "    temp_preds = cross_val_predict(\n",
    "        temp_model, x_train, int_labels, cv=5\n",
    "    )\n",
    "    model_results[str(i)]['train_confusion_matrix'] = (\n",
    "        confusion_matrix(int_labels, temp_preds)\n",
    "    )\n",
    "    model_results[str(i)]['train_precision'] = (\n",
    "        precision_score(int_labels, temp_preds)\n",
    "    )\n",
    "    model_results[str(i)]['train_recall'] = (\n",
    "        recall_score(int_labels, temp_preds)\n",
    "    )\n",
    "    model_results[str(i)]['train_f1'] = (\n",
    "        f1_score(int_labels, temp_preds)\n",
    "    )\n",
    "    \n",
    "    temp_scores = cross_val_predict(\n",
    "        temp_model, x_train, int_labels, cv=5, method='decision_function'\n",
    "    )\n",
    "    \n",
    "    temp_precisions, temp_recalls, temp_thresholds = precision_recall_curve(int_labels, temp_scores)\n",
    "    \n",
    "    plt.plot(temp_thresholds, temp_precisions[:-1], \"b--\", label='Precision')\n",
    "    plt.plot(temp_thresholds, temp_recalls[:-1], \"g-\", label='Recall')\n",
    "    plt.legend(loc='right')\n",
    "    plt.show()\n",
    "    \n",
    "    false_positive_rates, true_positive_rates, thresholds = roc_curve(int_labels, temp_scores)\n",
    "    plt.plot(false_positive_rates, true_positive_rates)\n",
    "    plt.plot([0, 1], [0, 1], 'k--')\n",
    "    \n",
    "    return model_results\n",
    "\n",
    "def run_random_forest_model(i: int, y_train, x_train):\n",
    "    \n",
    "    # Get target\n",
    "    int_labels = get_int_labels(i=i, y_train=y_train)\n",
    "    \n",
    "    forest_model = RandomForestClassifier(random_state=13)\n",
    "    \n",
    "    temp_probs = cross_val_predict(forest_model, x_train, y_train, cv=5, method='predict_proba')\n",
    "    \n",
    "    temp_scores = temp_probs[:, 1] # pull out column 1 to get positive class probability\n",
    "    false_positive_rates, true_positive_rates, thresholds = roc_curve(int_labels, temp_scores)\n",
    "    \n",
    "    plt.plot(false_positive_rates, true_positive_rates)\n",
    "    plt.plot([0, 1], [0, 1], 'k--')\n",
    "    \n",
    "    \n",
    "    \n",
    "\n",
    "run_sgd_model(i=5, x_train=x_train, y_train=y_train)"
   ],
   "metadata": {
    "collapsed": false,
    "is_executing": true,
    "ExecuteTime": {
     "start_time": "2024-07-29T20:00:42.923885Z"
    }
   },
   "id": "5e0a8925d24a00ec",
   "execution_count": null
  },
  {
   "cell_type": "code",
   "outputs": [
    {
     "data": {
      "text/plain": "<Figure size 640x480 with 1 Axes>",
      "image/png": "[encoded data removed]"
     },
     "metadata": {},
     "output_type": "display_data"
    }
   ],
   "source": [
    "run_random_forest_model(i=5, x_train=x_train, y_train=y_train)"
   ],
   "metadata": {
    "collapsed": false,
    "ExecuteTime": {
     "end_time": "2024-07-29T20:00:42.920883Z",
     "start_time": "2024-07-29T19:56:50.191884Z"
    }
   },
   "id": "fda2a1bbe5c5ed48",
   "execution_count": 42
  },
  {
   "cell_type": "code",
   "outputs": [],
   "source": [],
   "metadata": {
    "collapsed": false
   },
   "id": "b77bbed7d6d1119"
  }
 ],
 "metadata": {
  "kernelspec": {
   "display_name": "Python 3",
   "language": "python",
   "name": "python3"
  },
  "language_info": {
   "codemirror_mode": {
    "name": "ipython",
    "version": 2
   },
   "file_extension": ".py",
   "mimetype": "text/x-python",
   "name": "python",
   "nbconvert_exporter": "python",
   "pygments_lexer": "ipython2",
   "version": "2.7.6"
  }
 },
 "nbformat": 4,
 "nbformat_minor": 5
}
