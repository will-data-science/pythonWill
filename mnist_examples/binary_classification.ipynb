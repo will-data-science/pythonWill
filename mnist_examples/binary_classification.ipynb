{
 "cells": [
  {
   "cell_type": "code",
   "execution_count": 111,
   "id": "initial_id",
   "metadata": {
    "collapsed": true,
    "ExecuteTime": {
     "end_time": "2024-07-25T22:30:31.109111Z",
     "start_time": "2024-07-25T22:30:31.105107Z"
    }
   },
   "outputs": [],
   "source": [
    "# Imports\n",
    "from sklearn.datasets import fetch_openml\n",
    "import matplotlib as mpl\n",
    "import matplotlib.pyplot as plt\n",
    "from sklearn.linear_model import SGDClassifier\n",
    "from sklearn.model_selection import cross_val_score\n",
    "import pandas as pd\n",
    "import numpy as np"
   ]
  },
  {
   "cell_type": "code",
   "outputs": [],
   "source": [
    "# Fetch Data\n",
    "mnist = fetch_openml('mnist_784', version=1)"
   ],
   "metadata": {
    "collapsed": false,
    "ExecuteTime": {
     "end_time": "2024-07-25T21:34:16.460637Z",
     "start_time": "2024-07-25T21:34:04.650900Z"
    }
   },
   "id": "816c2aa388f9586",
   "execution_count": 4
  },
  {
   "cell_type": "code",
   "outputs": [],
   "source": [
    "pixel_features = mnist['data']\n",
    "data_labels = mnist['target']"
   ],
   "metadata": {
    "collapsed": false,
    "ExecuteTime": {
     "end_time": "2024-07-25T21:34:34.516055Z",
     "start_time": "2024-07-25T21:34:34.508048Z"
    }
   },
   "id": "19e4fba3d4a52a09",
   "execution_count": 9
  },
  {
   "cell_type": "code",
   "outputs": [
    {
     "data": {
      "text/plain": "<Figure size 640x480 with 10 Axes>",
      "image/png": "[encoded data removed]"
     },
     "metadata": {},
     "output_type": "display_data"
    }
   ],
   "source": [
    "# View the Data\n",
    "fig = plt.figure()\n",
    "rows = 2\n",
    "columns = 5\n",
    "for i in range(rows * columns):\n",
    "    fig.add_subplot(rows, columns, i + 1)\n",
    "    # Each row corresponds to the pixels of the photo \n",
    "    # Need to reshape to a 28x28 array\n",
    "    plt.imshow(pixel_features.iloc[i].to_numpy().reshape(28, 28), cmap='binary')"
   ],
   "metadata": {
    "collapsed": false,
    "ExecuteTime": {
     "end_time": "2024-07-25T21:47:48.993376Z",
     "start_time": "2024-07-25T21:47:48.184641Z"
    }
   },
   "id": "44e3fe7b9f0a835b",
   "execution_count": 41
  },
  {
   "cell_type": "markdown",
   "source": [],
   "metadata": {
    "collapsed": false
   },
   "id": "c1be62d57c9cb373"
  },
  {
   "cell_type": "code",
   "outputs": [],
   "source": [
    "# Train, Holdout Set Split\n",
    "x_train = pixel_features.sample(frac=0.90, random_state=13)\n",
    "x_holdout = pixel_features.drop(x_train.index)\n",
    "y_train = data_labels.iloc[x_train.index]\n",
    "y_holdout = data_labels.drop(y_train.index)"
   ],
   "metadata": {
    "collapsed": false,
    "ExecuteTime": {
     "end_time": "2024-07-25T22:20:06.230889Z",
     "start_time": "2024-07-25T22:20:05.803500Z"
    }
   },
   "id": "d62d3f33bdba6cf6",
   "execution_count": 91
  },
  {
   "cell_type": "code",
   "outputs": [
    {
     "data": {
      "text/plain": "((63000, 784), (63000,))"
     },
     "execution_count": 92,
     "metadata": {},
     "output_type": "execute_result"
    }
   ],
   "source": [
    "x_train.shape, y_train.shape"
   ],
   "metadata": {
    "collapsed": false,
    "ExecuteTime": {
     "end_time": "2024-07-25T22:20:06.710325Z",
     "start_time": "2024-07-25T22:20:06.696311Z"
    }
   },
   "id": "b2f4a3b585eb3776",
   "execution_count": 92
  },
  {
   "cell_type": "code",
   "outputs": [
    {
     "data": {
      "text/plain": "array([0.98      , 0.9747619 , 0.97611111, 0.97753968, 0.97468254])"
     },
     "execution_count": 108,
     "metadata": {},
     "output_type": "execute_result"
    }
   ],
   "source": [],
   "metadata": {
    "collapsed": false,
    "ExecuteTime": {
     "end_time": "2024-07-25T22:27:03.866658Z",
     "start_time": "2024-07-25T22:26:21.763373Z"
    }
   },
   "id": "c722ab0789d350b8",
   "execution_count": 108
  },
  {
   "cell_type": "code",
   "outputs": [],
   "source": [
    "def run_model_for_int(\n",
    "        train_labels: pd.Series,\n",
    "        target_int: int,\n",
    "        cv: int = 5,\n",
    "        scoring: str = 'accuracy'\n",
    "):\n",
    "    int_labels = (train_labels == str(target_int)) \n",
    "    # Train with Stochastic Gradient Descent\n",
    "    temp_model = SGDClassifier(random_state=13)\n",
    "    model_score = np.mean(\n",
    "        cross_val_score(\n",
    "            estimator=temp_model,\n",
    "            X=x_train,\n",
    "            y=int_labels,\n",
    "            cv=cv,\n",
    "            scoring=scoring,\n",
    "        )\n",
    "    )\n",
    "    # TODO: return model and run holdout test\n",
    "    return model_score\n",
    "    "
   ],
   "metadata": {
    "collapsed": false,
    "ExecuteTime": {
     "end_time": "2024-07-25T22:35:22.476060Z",
     "start_time": "2024-07-25T22:35:22.460045Z"
    }
   },
   "id": "7b704d72ba604ef8",
   "execution_count": 114
  },
  {
   "cell_type": "code",
   "outputs": [],
   "source": [
    "model_results = {}\n",
    "for i in range(10):\n",
    "    model_results[str(i)] = run_model_for_int(\n",
    "        train_labels=y_train,\n",
    "        target_int=i,\n",
    "        cv=5,\n",
    "        scoring='accuracy'\n",
    "    )\n",
    "print(model_results)"
   ],
   "metadata": {
    "collapsed": false,
    "is_executing": true,
    "ExecuteTime": {
     "start_time": "2024-07-25T22:35:23.686160Z"
    }
   },
   "id": "5e0a8925d24a00ec",
   "execution_count": null
  },
  {
   "cell_type": "code",
   "outputs": [],
   "source": [],
   "metadata": {
    "collapsed": false
   },
   "id": "e5964962c83275ce"
  }
 ],
 "metadata": {
  "kernelspec": {
   "display_name": "Python 3",
   "language": "python",
   "name": "python3"
  },
  "language_info": {
   "codemirror_mode": {
    "name": "ipython",
    "version": 2
   },
   "file_extension": ".py",
   "mimetype": "text/x-python",
   "name": "python",
   "nbconvert_exporter": "python",
   "pygments_lexer": "ipython2",
   "version": "2.7.6"
  }
 },
 "nbformat": 4,
 "nbformat_minor": 5
}
