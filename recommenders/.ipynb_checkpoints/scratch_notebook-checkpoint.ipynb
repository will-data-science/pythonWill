{
 "cells": [
  {
   "cell_type": "raw",
   "source": [],
   "metadata": {
    "collapsed": false
   },
   "id": "8d11e237d6eee97"
  }
 ],
 "metadata": {},
 "nbformat": 4,
 "nbformat_minor": 5
}
