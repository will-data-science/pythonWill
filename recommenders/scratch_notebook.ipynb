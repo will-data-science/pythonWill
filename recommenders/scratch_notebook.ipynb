{
 "cells": [
  {
   "cell_type": "code",
   "execution_count": 1,
   "id": "e19003e1-bdce-44c2-9475-9a8b9a281a95",
   "metadata": {
    "ExecuteTime": {
     "end_time": "2024-03-22T00:34:38.132910Z",
     "start_time": "2024-03-22T00:34:37.379227Z"
    }
   },
   "outputs": [],
   "source": [
    "# Module Imports\n",
    "from utils import *"
   ]
  },
  {
   "cell_type": "code",
   "execution_count": 2,
   "id": "c248c0d0-fb88-447c-ae33-33913c6a4dcb",
   "metadata": {
    "ExecuteTime": {
     "end_time": "2024-03-22T00:34:38.148926Z",
     "start_time": "2024-03-22T00:34:38.134912Z"
    }
   },
   "outputs": [],
   "source": [
    "# Constants\n",
    "movie_data_csv = \"C:/Users/kretz/OneDrive/DataSets/movie.csv\"\n",
    "rating_data_csv = \"C:/Users/kretz/OneDrive/DataSets/rating.csv\"\n",
    "TITLE = 'title'"
   ]
  },
  {
   "cell_type": "code",
   "execution_count": 3,
   "id": "5a8efed0-5e0a-4d84-8c74-26870add1be7",
   "metadata": {
    "ExecuteTime": {
     "end_time": "2024-03-22T00:34:48.292135Z",
     "start_time": "2024-03-22T00:34:38.149926Z"
    }
   },
   "outputs": [],
   "source": [
    "# Read Data\n",
    "movie_df = pd.read_csv(movie_data_csv)\n",
    "rating_df = pd.read_csv(rating_data_csv)"
   ]
  },
  {
   "cell_type": "code",
   "execution_count": 4,
   "id": "23ecf03f-7704-4f93-acff-70f4d7f66592",
   "metadata": {
    "ExecuteTime": {
     "end_time": "2024-03-22T00:34:48.420251Z",
     "start_time": "2024-03-22T00:34:48.294137Z"
    }
   },
   "outputs": [],
   "source": [
    "# Data Transformations etc.\n",
    "users_id = rating_df[\"userId\"].unique()\n",
    "movies_id = movie_df[\"movieId\"].unique()"
   ]
  },
  {
   "cell_type": "code",
   "execution_count": 11,
   "id": "ac6344fa-c4b5-47d3-95d3-b9a4a2ec77b6",
   "metadata": {
    "ExecuteTime": {
     "end_time": "2024-03-22T00:36:08.989406Z",
     "start_time": "2024-03-22T00:36:08.974393Z"
    }
   },
   "outputs": [
    {
     "data": {
      "text/plain": "   movieId                     title  \\\n0        1          Toy Story (1995)   \n1        2            Jumanji (1995)   \n2        3   Grumpier Old Men (1995)   \n3        4  Waiting to Exhale (1995)   \n\n                                        genres  \n0  Adventure|Animation|Children|Comedy|Fantasy  \n1                   Adventure|Children|Fantasy  \n2                               Comedy|Romance  \n3                         Comedy|Drama|Romance  ",
      "text/html": "<div>\n<style scoped>\n    .dataframe tbody tr th:only-of-type {\n        vertical-align: middle;\n    }\n\n    .dataframe tbody tr th {\n        vertical-align: top;\n    }\n\n    .dataframe thead th {\n        text-align: right;\n    }\n</style>\n<table border=\"1\" class=\"dataframe\">\n  <thead>\n    <tr style=\"text-align: right;\">\n      <th></th>\n      <th>movieId</th>\n      <th>title</th>\n      <th>genres</th>\n    </tr>\n  </thead>\n  <tbody>\n    <tr>\n      <th>0</th>\n      <td>1</td>\n      <td>Toy Story (1995)</td>\n      <td>Adventure|Animation|Children|Comedy|Fantasy</td>\n    </tr>\n    <tr>\n      <th>1</th>\n      <td>2</td>\n      <td>Jumanji (1995)</td>\n      <td>Adventure|Children|Fantasy</td>\n    </tr>\n    <tr>\n      <th>2</th>\n      <td>3</td>\n      <td>Grumpier Old Men (1995)</td>\n      <td>Comedy|Romance</td>\n    </tr>\n    <tr>\n      <th>3</th>\n      <td>4</td>\n      <td>Waiting to Exhale (1995)</td>\n      <td>Comedy|Drama|Romance</td>\n    </tr>\n  </tbody>\n</table>\n</div>"
     },
     "execution_count": 11,
     "metadata": {},
     "output_type": "execute_result"
    }
   ],
   "source": [
    "movie_df.head(4)"
   ]
  },
  {
   "cell_type": "code",
   "execution_count": 6,
   "id": "1e1855b1-2e9e-4eaf-ae3c-c9e632a16663",
   "metadata": {
    "ExecuteTime": {
     "end_time": "2024-03-22T00:34:48.516338Z",
     "start_time": "2024-03-22T00:34:48.437267Z"
    }
   },
   "outputs": [],
   "source": [
    "clean_movie_df = clean_raw_movie_data(\n",
    "    raw_df=movie_df\n",
    ")"
   ]
  },
  {
   "cell_type": "code",
   "outputs": [
    {
     "data": {
      "text/plain": "   movieId                     title  \\\n0        1          toy story (1995)   \n1        2            jumanji (1995)   \n2        3   grumpier old men (1995)   \n3        4  waiting to exhale (1995)   \n\n                                        genres         clean_title  year  \n0  Adventure|Animation|Children|Comedy|Fantasy          toy story   1995  \n1                   Adventure|Children|Fantasy            jumanji   1995  \n2                               Comedy|Romance   grumpier old men   1995  \n3                         Comedy|Drama|Romance  waiting to exhale   1995  ",
      "text/html": "<div>\n<style scoped>\n    .dataframe tbody tr th:only-of-type {\n        vertical-align: middle;\n    }\n\n    .dataframe tbody tr th {\n        vertical-align: top;\n    }\n\n    .dataframe thead th {\n        text-align: right;\n    }\n</style>\n<table border=\"1\" class=\"dataframe\">\n  <thead>\n    <tr style=\"text-align: right;\">\n      <th></th>\n      <th>movieId</th>\n      <th>title</th>\n      <th>genres</th>\n      <th>clean_title</th>\n      <th>year</th>\n    </tr>\n  </thead>\n  <tbody>\n    <tr>\n      <th>0</th>\n      <td>1</td>\n      <td>toy story (1995)</td>\n      <td>Adventure|Animation|Children|Comedy|Fantasy</td>\n      <td>toy story</td>\n      <td>1995</td>\n    </tr>\n    <tr>\n      <th>1</th>\n      <td>2</td>\n      <td>jumanji (1995)</td>\n      <td>Adventure|Children|Fantasy</td>\n      <td>jumanji</td>\n      <td>1995</td>\n    </tr>\n    <tr>\n      <th>2</th>\n      <td>3</td>\n      <td>grumpier old men (1995)</td>\n      <td>Comedy|Romance</td>\n      <td>grumpier old men</td>\n      <td>1995</td>\n    </tr>\n    <tr>\n      <th>3</th>\n      <td>4</td>\n      <td>waiting to exhale (1995)</td>\n      <td>Comedy|Drama|Romance</td>\n      <td>waiting to exhale</td>\n      <td>1995</td>\n    </tr>\n  </tbody>\n</table>\n</div>"
     },
     "execution_count": 9,
     "metadata": {},
     "output_type": "execute_result"
    }
   ],
   "source": [
    "clean_movie_df.head(4)"
   ],
   "metadata": {
    "collapsed": false,
    "ExecuteTime": {
     "end_time": "2024-03-22T00:35:49.387608Z",
     "start_time": "2024-03-22T00:35:49.375597Z"
    }
   },
   "id": "ed49817ac9e28513",
   "execution_count": 9
  },
  {
   "cell_type": "code",
   "outputs": [],
   "source": [
    "genre_df = get_genre_df(\n",
    "    raw_df=movie_df\n",
    ")"
   ],
   "metadata": {
    "collapsed": false,
    "ExecuteTime": {
     "end_time": "2024-03-22T00:34:48.692498Z",
     "start_time": "2024-03-22T00:34:48.517339Z"
    }
   },
   "id": "17e6be4a0ac976ca",
   "execution_count": 7
  },
  {
   "cell_type": "code",
   "outputs": [
    {
     "data": {
      "text/plain": "genre    action  adventure  animation  children  comedy  crime  documentary  \\\nmovieId                                                                       \n1           0.0        1.0        1.0       1.0     1.0    0.0          0.0   \n2           0.0        1.0        0.0       1.0     0.0    0.0          0.0   \n3           0.0        0.0        0.0       0.0     1.0    0.0          0.0   \n4           0.0        0.0        0.0       0.0     1.0    0.0          0.0   \n\ngenre    drama  fantasy  filmnoir  horror  imax  musical  mystery  \\\nmovieId                                                             \n1          0.0      1.0       0.0     0.0   0.0      0.0      0.0   \n2          0.0      1.0       0.0     0.0   0.0      0.0      0.0   \n3          0.0      0.0       0.0     0.0   0.0      0.0      0.0   \n4          1.0      0.0       0.0     0.0   0.0      0.0      0.0   \n\ngenre    no_genres_listed  romance  scifi  thriller  war  western  \nmovieId                                                            \n1                     0.0      0.0    0.0       0.0  0.0      0.0  \n2                     0.0      0.0    0.0       0.0  0.0      0.0  \n3                     0.0      1.0    0.0       0.0  0.0      0.0  \n4                     0.0      1.0    0.0       0.0  0.0      0.0  ",
      "text/html": "<div>\n<style scoped>\n    .dataframe tbody tr th:only-of-type {\n        vertical-align: middle;\n    }\n\n    .dataframe tbody tr th {\n        vertical-align: top;\n    }\n\n    .dataframe thead th {\n        text-align: right;\n    }\n</style>\n<table border=\"1\" class=\"dataframe\">\n  <thead>\n    <tr style=\"text-align: right;\">\n      <th>genre</th>\n      <th>action</th>\n      <th>adventure</th>\n      <th>animation</th>\n      <th>children</th>\n      <th>comedy</th>\n      <th>crime</th>\n      <th>documentary</th>\n      <th>drama</th>\n      <th>fantasy</th>\n      <th>filmnoir</th>\n      <th>horror</th>\n      <th>imax</th>\n      <th>musical</th>\n      <th>mystery</th>\n      <th>no_genres_listed</th>\n      <th>romance</th>\n      <th>scifi</th>\n      <th>thriller</th>\n      <th>war</th>\n      <th>western</th>\n    </tr>\n    <tr>\n      <th>movieId</th>\n      <th></th>\n      <th></th>\n      <th></th>\n      <th></th>\n      <th></th>\n      <th></th>\n      <th></th>\n      <th></th>\n      <th></th>\n      <th></th>\n      <th></th>\n      <th></th>\n      <th></th>\n      <th></th>\n      <th></th>\n      <th></th>\n      <th></th>\n      <th></th>\n      <th></th>\n      <th></th>\n    </tr>\n  </thead>\n  <tbody>\n    <tr>\n      <th>1</th>\n      <td>0.0</td>\n      <td>1.0</td>\n      <td>1.0</td>\n      <td>1.0</td>\n      <td>1.0</td>\n      <td>0.0</td>\n      <td>0.0</td>\n      <td>0.0</td>\n      <td>1.0</td>\n      <td>0.0</td>\n      <td>0.0</td>\n      <td>0.0</td>\n      <td>0.0</td>\n      <td>0.0</td>\n      <td>0.0</td>\n      <td>0.0</td>\n      <td>0.0</td>\n      <td>0.0</td>\n      <td>0.0</td>\n      <td>0.0</td>\n    </tr>\n    <tr>\n      <th>2</th>\n      <td>0.0</td>\n      <td>1.0</td>\n      <td>0.0</td>\n      <td>1.0</td>\n      <td>0.0</td>\n      <td>0.0</td>\n      <td>0.0</td>\n      <td>0.0</td>\n      <td>1.0</td>\n      <td>0.0</td>\n      <td>0.0</td>\n      <td>0.0</td>\n      <td>0.0</td>\n      <td>0.0</td>\n      <td>0.0</td>\n      <td>0.0</td>\n      <td>0.0</td>\n      <td>0.0</td>\n      <td>0.0</td>\n      <td>0.0</td>\n    </tr>\n    <tr>\n      <th>3</th>\n      <td>0.0</td>\n      <td>0.0</td>\n      <td>0.0</td>\n      <td>0.0</td>\n      <td>1.0</td>\n      <td>0.0</td>\n      <td>0.0</td>\n      <td>0.0</td>\n      <td>0.0</td>\n      <td>0.0</td>\n      <td>0.0</td>\n      <td>0.0</td>\n      <td>0.0</td>\n      <td>0.0</td>\n      <td>0.0</td>\n      <td>1.0</td>\n      <td>0.0</td>\n      <td>0.0</td>\n      <td>0.0</td>\n      <td>0.0</td>\n    </tr>\n    <tr>\n      <th>4</th>\n      <td>0.0</td>\n      <td>0.0</td>\n      <td>0.0</td>\n      <td>0.0</td>\n      <td>1.0</td>\n      <td>0.0</td>\n      <td>0.0</td>\n      <td>1.0</td>\n      <td>0.0</td>\n      <td>0.0</td>\n      <td>0.0</td>\n      <td>0.0</td>\n      <td>0.0</td>\n      <td>0.0</td>\n      <td>0.0</td>\n      <td>1.0</td>\n      <td>0.0</td>\n      <td>0.0</td>\n      <td>0.0</td>\n      <td>0.0</td>\n    </tr>\n  </tbody>\n</table>\n</div>"
     },
     "execution_count": 10,
     "metadata": {},
     "output_type": "execute_result"
    }
   ],
   "source": [
    "genre_df.head(4)"
   ],
   "metadata": {
    "collapsed": false,
    "ExecuteTime": {
     "end_time": "2024-03-22T00:35:55.873497Z",
     "start_time": "2024-03-22T00:35:55.847473Z"
    }
   },
   "id": "f2ded320df2948af",
   "execution_count": 10
  },
  {
   "cell_type": "code",
   "outputs": [],
   "source": [],
   "metadata": {
    "collapsed": false
   },
   "id": "6c8173a0c2021a10"
  }
 ],
 "metadata": {
  "kernelspec": {
   "display_name": "Python 3 (ipykernel)",
   "language": "python",
   "name": "python3"
  },
  "language_info": {
   "codemirror_mode": {
    "name": "ipython",
    "version": 3
   },
   "file_extension": ".py",
   "mimetype": "text/x-python",
   "name": "python",
   "nbconvert_exporter": "python",
   "pygments_lexer": "ipython3",
   "version": "3.11.7"
  }
 },
 "nbformat": 4,
 "nbformat_minor": 5
}
