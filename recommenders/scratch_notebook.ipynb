{
 "cells": [
  {
   "cell_type": "code",
   "execution_count": 1,
   "id": "e19003e1-bdce-44c2-9475-9a8b9a281a95",
   "metadata": {},
   "outputs": [
    {
     "name": "stdout",
     "output_type": "stream",
     "text": [
      "[     1      2      3 ... 138491 138492 138493]\n"
     ]
    }
   ],
   "source": [
    "# Module Imports\n",
    "import pandas as pd"
   ]
  },
  {
   "cell_type": "code",
   "execution_count": 9,
   "id": "c248c0d0-fb88-447c-ae33-33913c6a4dcb",
   "metadata": {},
   "outputs": [],
   "source": [
    "# Constants\n",
    "movie_data_csv = \"C:/Users/kretz/OneDrive/DataSets/movie.csv\"\n",
    "rating_data_csv = \"C:/Users/kretz/OneDrive/DataSets/rating.csv\"\n",
    "TITLE = 'title'"
   ]
  },
  {
   "cell_type": "code",
   "execution_count": 3,
   "id": "5a8efed0-5e0a-4d84-8c74-26870add1be7",
   "metadata": {},
   "outputs": [],
   "source": [
    "# Read Data\n",
    "movie_df = pd.read_csv(movie_data_csv)\n",
    "rating_df = pd.read_csv(rating_data_csv)"
   ]
  },
  {
   "cell_type": "code",
   "execution_count": 6,
   "id": "23ecf03f-7704-4f93-acff-70f4d7f66592",
   "metadata": {},
   "outputs": [
    {
     "name": "stdout",
     "output_type": "stream",
     "text": [
      "[     1      2      3 ... 138491 138492 138493]\n"
     ]
    }
   ],
   "source": [
    "# Data Transformations etc.\n",
    "users_id = rating_df[\"userId\"].unique()\n",
    "movies_id = movie_df[\"movieId\"].unique()"
   ]
  },
  {
   "cell_type": "code",
   "execution_count": 8,
   "id": "ac6344fa-c4b5-47d3-95d3-b9a4a2ec77b6",
   "metadata": {},
   "outputs": [
    {
     "name": "stdout",
     "output_type": "stream",
     "text": [
      "       movieId                               title  \\\n",
      "0            1                    Toy Story (1995)   \n",
      "1            2                      Jumanji (1995)   \n",
      "2            3             Grumpier Old Men (1995)   \n",
      "3            4            Waiting to Exhale (1995)   \n",
      "4            5  Father of the Bride Part II (1995)   \n",
      "...        ...                                 ...   \n",
      "27273   131254        Kein Bund für's Leben (2007)   \n",
      "27274   131256       Feuer, Eis & Dosenbier (2002)   \n",
      "27275   131258                  The Pirates (2014)   \n",
      "27276   131260                 Rentun Ruusu (2001)   \n",
      "27277   131262                    Innocence (2014)   \n",
      "\n",
      "                                            genres  \n",
      "0      Adventure|Animation|Children|Comedy|Fantasy  \n",
      "1                       Adventure|Children|Fantasy  \n",
      "2                                   Comedy|Romance  \n",
      "3                             Comedy|Drama|Romance  \n",
      "4                                           Comedy  \n",
      "...                                            ...  \n",
      "27273                                       Comedy  \n",
      "27274                                       Comedy  \n",
      "27275                                    Adventure  \n",
      "27276                           (no genres listed)  \n",
      "27277                     Adventure|Fantasy|Horror  \n",
      "\n",
      "[27278 rows x 3 columns]\n"
     ]
    }
   ],
   "source": [
    "print(movie_df)"
   ]
  },
  {
   "cell_type": "code",
   "execution_count": 15,
   "id": "1e1855b1-2e9e-4eaf-ae3c-c9e632a16663",
   "metadata": {},
   "outputs": [],
   "source": [
    "clean_movie_df = movie_df.copy()\n",
    "clean_movie_df[TITLE] = clean_movie_df[TITLE].map(lambda x: x.strip()).map(lambda x: x.lower())"
   ]
  },
  {
   "cell_type": "code",
   "execution_count": null,
   "id": "49ff7dbf-bfba-4c56-ae1e-cb8e14c300dd",
   "metadata": {},
   "outputs": [],
   "source": []
  }
 ],
 "metadata": {
  "kernelspec": {
   "display_name": "Python 3 (ipykernel)",
   "language": "python",
   "name": "python3"
  },
  "language_info": {
   "codemirror_mode": {
    "name": "ipython",
    "version": 3
   },
   "file_extension": ".py",
   "mimetype": "text/x-python",
   "name": "python",
   "nbconvert_exporter": "python",
   "pygments_lexer": "ipython3",
   "version": "3.11.7"
  }
 },
 "nbformat": 4,
 "nbformat_minor": 5
}
