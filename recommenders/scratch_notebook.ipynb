{
 "cells": [
  {
   "cell_type": "code",
   "execution_count": 1,
   "id": "e19003e1-bdce-44c2-9475-9a8b9a281a95",
   "metadata": {
    "ExecuteTime": {
     "end_time": "2024-03-26T01:02:26.363996Z",
     "start_time": "2024-03-26T01:02:24.974803Z"
    }
   },
   "outputs": [],
   "source": [
    "import pandas as pd\n",
    "\n",
    "# Module Imports\n",
    "from utils import *\n",
    "from local_files import data_directory"
   ]
  },
  {
   "cell_type": "code",
   "execution_count": 2,
   "id": "c248c0d0-fb88-447c-ae33-33913c6a4dcb",
   "metadata": {
    "ExecuteTime": {
     "end_time": "2024-03-26T01:02:27.681878Z",
     "start_time": "2024-03-26T01:02:27.670884Z"
    }
   },
   "outputs": [],
   "source": [
    "# Constants\n",
    "movie_data_csv = f\"{data_directory}/DataSets/movie.csv\"\n",
    "rating_data_csv = f\"{data_directory}/DataSets/rating.csv\"\n",
    "TITLE = 'title'\n",
    "UID = 'userId'\n",
    "IID = 'movieId'"
   ]
  },
  {
   "cell_type": "code",
   "execution_count": 3,
   "id": "5a8efed0-5e0a-4d84-8c74-26870add1be7",
   "metadata": {
    "ExecuteTime": {
     "end_time": "2024-03-26T01:02:46.506339Z",
     "start_time": "2024-03-26T01:02:29.060344Z"
    }
   },
   "outputs": [],
   "source": [
    "# Read Data\n",
    "movie_df = pd.read_csv(movie_data_csv)\n",
    "rating_df = pd.read_csv(rating_data_csv)"
   ]
  },
  {
   "cell_type": "code",
   "execution_count": 4,
   "id": "23ecf03f-7704-4f93-acff-70f4d7f66592",
   "metadata": {
    "ExecuteTime": {
     "end_time": "2024-03-26T01:02:46.727628Z",
     "start_time": "2024-03-26T01:02:46.509378Z"
    }
   },
   "outputs": [],
   "source": [
    "# Data Transformations etc.\n",
    "users_id = rating_df[UID].unique()\n",
    "movies_id = movie_df[IID].unique()"
   ]
  },
  {
   "cell_type": "code",
   "execution_count": 5,
   "id": "ac6344fa-c4b5-47d3-95d3-b9a4a2ec77b6",
   "metadata": {
    "ExecuteTime": {
     "end_time": "2024-03-26T01:02:46.759337Z",
     "start_time": "2024-03-26T01:02:46.730376Z"
    }
   },
   "outputs": [
    {
     "data": {
      "text/plain": "   movieId                     title  \\\n0        1          Toy Story (1995)   \n1        2            Jumanji (1995)   \n2        3   Grumpier Old Men (1995)   \n3        4  Waiting to Exhale (1995)   \n\n                                        genres  \n0  Adventure|Animation|Children|Comedy|Fantasy  \n1                   Adventure|Children|Fantasy  \n2                               Comedy|Romance  \n3                         Comedy|Drama|Romance  ",
      "text/html": "<div>\n<style scoped>\n    .dataframe tbody tr th:only-of-type {\n        vertical-align: middle;\n    }\n\n    .dataframe tbody tr th {\n        vertical-align: top;\n    }\n\n    .dataframe thead th {\n        text-align: right;\n    }\n</style>\n<table border=\"1\" class=\"dataframe\">\n  <thead>\n    <tr style=\"text-align: right;\">\n      <th></th>\n      <th>movieId</th>\n      <th>title</th>\n      <th>genres</th>\n    </tr>\n  </thead>\n  <tbody>\n    <tr>\n      <th>0</th>\n      <td>1</td>\n      <td>Toy Story (1995)</td>\n      <td>Adventure|Animation|Children|Comedy|Fantasy</td>\n    </tr>\n    <tr>\n      <th>1</th>\n      <td>2</td>\n      <td>Jumanji (1995)</td>\n      <td>Adventure|Children|Fantasy</td>\n    </tr>\n    <tr>\n      <th>2</th>\n      <td>3</td>\n      <td>Grumpier Old Men (1995)</td>\n      <td>Comedy|Romance</td>\n    </tr>\n    <tr>\n      <th>3</th>\n      <td>4</td>\n      <td>Waiting to Exhale (1995)</td>\n      <td>Comedy|Drama|Romance</td>\n    </tr>\n  </tbody>\n</table>\n</div>"
     },
     "execution_count": 5,
     "metadata": {},
     "output_type": "execute_result"
    }
   ],
   "source": [
    "movie_df.head(4)"
   ]
  },
  {
   "cell_type": "code",
   "execution_count": 6,
   "id": "1e1855b1-2e9e-4eaf-ae3c-c9e632a16663",
   "metadata": {
    "ExecuteTime": {
     "end_time": "2024-03-26T01:02:47.248336Z",
     "start_time": "2024-03-26T01:02:46.762346Z"
    }
   },
   "outputs": [],
   "source": [
    "item_df = process_item_df(\n",
    "    item_df=movie_df,\n",
    "    item_id_col=IID\n",
    ")"
   ]
  },
  {
   "cell_type": "code",
   "outputs": [
    {
     "data": {
      "text/plain": "   userId  movieId  rating            timestamp\n0       1        2     3.5  2005-04-02 23:53:47\n1       1       29     3.5  2005-04-02 23:31:16\n2       1       32     3.5  2005-04-02 23:33:39",
      "text/html": "<div>\n<style scoped>\n    .dataframe tbody tr th:only-of-type {\n        vertical-align: middle;\n    }\n\n    .dataframe tbody tr th {\n        vertical-align: top;\n    }\n\n    .dataframe thead th {\n        text-align: right;\n    }\n</style>\n<table border=\"1\" class=\"dataframe\">\n  <thead>\n    <tr style=\"text-align: right;\">\n      <th></th>\n      <th>userId</th>\n      <th>movieId</th>\n      <th>rating</th>\n      <th>timestamp</th>\n    </tr>\n  </thead>\n  <tbody>\n    <tr>\n      <th>0</th>\n      <td>1</td>\n      <td>2</td>\n      <td>3.5</td>\n      <td>2005-04-02 23:53:47</td>\n    </tr>\n    <tr>\n      <th>1</th>\n      <td>1</td>\n      <td>29</td>\n      <td>3.5</td>\n      <td>2005-04-02 23:31:16</td>\n    </tr>\n    <tr>\n      <th>2</th>\n      <td>1</td>\n      <td>32</td>\n      <td>3.5</td>\n      <td>2005-04-02 23:33:39</td>\n    </tr>\n  </tbody>\n</table>\n</div>"
     },
     "execution_count": 7,
     "metadata": {},
     "output_type": "execute_result"
    }
   ],
   "source": [
    "rating_df.head(3)"
   ],
   "metadata": {
    "collapsed": false,
    "ExecuteTime": {
     "end_time": "2024-03-26T01:02:47.296340Z",
     "start_time": "2024-03-26T01:02:47.275341Z"
    }
   },
   "id": "6c8173a0c2021a10",
   "execution_count": 7
  },
  {
   "cell_type": "code",
   "outputs": [],
   "source": [
    "item_rating_agg_df = get_agg_feature_df(\n",
    "    source_df=rating_df,\n",
    "    ui_id_col=IID,\n",
    "    agg_feature_col='rating'\n",
    ")\n",
    "\n",
    "user_rating_agg_df = get_agg_feature_df(\n",
    "    source_df=rating_df,\n",
    "    ui_id_col=UID,\n",
    "    agg_feature_col='rating'\n",
    ")"
   ],
   "metadata": {
    "collapsed": false,
    "ExecuteTime": {
     "end_time": "2024-03-26T01:02:52.128341Z",
     "start_time": "2024-03-26T01:02:47.299341Z"
    }
   },
   "id": "cb54b0dc17387ce9",
   "execution_count": 8
  },
  {
   "cell_type": "code",
   "outputs": [
    {
     "data": {
      "text/plain": "        rating_mean  rating_median  rating_std  rating_min  rating_max\nuserId                                                                \n1          3.742857            4.0    0.382284         3.0         5.0\n2          4.000000            4.0    1.064581         2.0         5.0\n3          4.122995            4.0    0.910427         1.0         5.0\n4          3.571429            4.0    0.790151         1.0         5.0\n5          4.272727            5.0    0.969464         2.0         5.0\n...             ...            ...         ...         ...         ...\n138489     3.986842            4.0    0.662579         2.0         5.0\n138490     3.556291            4.0    0.868990         1.0         5.0\n138491     2.681818            2.5    1.305168         0.5         5.0\n138492     4.097561            4.5    0.904171         1.0         5.0\n138493     4.172922            4.5    0.775284         0.5         5.0\n\n[138493 rows x 5 columns]",
      "text/html": "<div>\n<style scoped>\n    .dataframe tbody tr th:only-of-type {\n        vertical-align: middle;\n    }\n\n    .dataframe tbody tr th {\n        vertical-align: top;\n    }\n\n    .dataframe thead th {\n        text-align: right;\n    }\n</style>\n<table border=\"1\" class=\"dataframe\">\n  <thead>\n    <tr style=\"text-align: right;\">\n      <th></th>\n      <th>rating_mean</th>\n      <th>rating_median</th>\n      <th>rating_std</th>\n      <th>rating_min</th>\n      <th>rating_max</th>\n    </tr>\n    <tr>\n      <th>userId</th>\n      <th></th>\n      <th></th>\n      <th></th>\n      <th></th>\n      <th></th>\n    </tr>\n  </thead>\n  <tbody>\n    <tr>\n      <th>1</th>\n      <td>3.742857</td>\n      <td>4.0</td>\n      <td>0.382284</td>\n      <td>3.0</td>\n      <td>5.0</td>\n    </tr>\n    <tr>\n      <th>2</th>\n      <td>4.000000</td>\n      <td>4.0</td>\n      <td>1.064581</td>\n      <td>2.0</td>\n      <td>5.0</td>\n    </tr>\n    <tr>\n      <th>3</th>\n      <td>4.122995</td>\n      <td>4.0</td>\n      <td>0.910427</td>\n      <td>1.0</td>\n      <td>5.0</td>\n    </tr>\n    <tr>\n      <th>4</th>\n      <td>3.571429</td>\n      <td>4.0</td>\n      <td>0.790151</td>\n      <td>1.0</td>\n      <td>5.0</td>\n    </tr>\n    <tr>\n      <th>5</th>\n      <td>4.272727</td>\n      <td>5.0</td>\n      <td>0.969464</td>\n      <td>2.0</td>\n      <td>5.0</td>\n    </tr>\n    <tr>\n      <th>...</th>\n      <td>...</td>\n      <td>...</td>\n      <td>...</td>\n      <td>...</td>\n      <td>...</td>\n    </tr>\n    <tr>\n      <th>138489</th>\n      <td>3.986842</td>\n      <td>4.0</td>\n      <td>0.662579</td>\n      <td>2.0</td>\n      <td>5.0</td>\n    </tr>\n    <tr>\n      <th>138490</th>\n      <td>3.556291</td>\n      <td>4.0</td>\n      <td>0.868990</td>\n      <td>1.0</td>\n      <td>5.0</td>\n    </tr>\n    <tr>\n      <th>138491</th>\n      <td>2.681818</td>\n      <td>2.5</td>\n      <td>1.305168</td>\n      <td>0.5</td>\n      <td>5.0</td>\n    </tr>\n    <tr>\n      <th>138492</th>\n      <td>4.097561</td>\n      <td>4.5</td>\n      <td>0.904171</td>\n      <td>1.0</td>\n      <td>5.0</td>\n    </tr>\n    <tr>\n      <th>138493</th>\n      <td>4.172922</td>\n      <td>4.5</td>\n      <td>0.775284</td>\n      <td>0.5</td>\n      <td>5.0</td>\n    </tr>\n  </tbody>\n</table>\n<p>138493 rows × 5 columns</p>\n</div>"
     },
     "execution_count": 9,
     "metadata": {},
     "output_type": "execute_result"
    }
   ],
   "source": [
    "user_rating_agg_df"
   ],
   "metadata": {
    "collapsed": false,
    "ExecuteTime": {
     "end_time": "2024-03-26T01:02:52.160372Z",
     "start_time": "2024-03-26T01:02:52.130343Z"
    }
   },
   "id": "5ce20221dac47e93",
   "execution_count": 9
  },
  {
   "cell_type": "code",
   "outputs": [],
   "source": [
    "targets_df = get_ratings_targets_df(\n",
    "    ratings_interaction_df=rating_df,\n",
    "    user_ratings_df=user_rating_agg_df,\n",
    "    user_id_col=UID,\n",
    "    item_id_col=IID\n",
    ")"
   ],
   "metadata": {
    "collapsed": false,
    "ExecuteTime": {
     "end_time": "2024-03-26T01:03:04.080338Z",
     "start_time": "2024-03-26T01:02:52.195350Z"
    }
   },
   "id": "8912c235d14d51dc",
   "execution_count": 11
  },
  {
   "cell_type": "code",
   "outputs": [
    {
     "data": {
      "text/plain": "          userId  movieId  rating  rating_atleast_3  rating_atleast_4  \\\n0              1        2     3.5              True              True   \n1              1       29     3.5              True              True   \n2              1       32     3.5              True              True   \n3              1       47     3.5              True              True   \n4              1       50     3.5              True              True   \n...          ...      ...     ...               ...               ...   \n20000258  138493    68954     4.5              True              True   \n20000259  138493    69526     4.5              True              True   \n20000260  138493    69644     3.0              True             False   \n20000261  138493    70286     5.0              True              True   \n20000262  138493    71619     2.5              True             False   \n\n          rating_atleast_5  rating_atleast_user_mean  \\\n0                    False                     False   \n1                    False                     False   \n2                    False                     False   \n3                    False                     False   \n4                    False                     False   \n...                    ...                       ...   \n20000258              True                      True   \n20000259              True                      True   \n20000260             False                     False   \n20000261              True                      True   \n20000262             False                     False   \n\n          rating_atleast_user_median  \n0                              False  \n1                              False  \n2                              False  \n3                              False  \n4                              False  \n...                              ...  \n20000258                        True  \n20000259                        True  \n20000260                       False  \n20000261                        True  \n20000262                       False  \n\n[20000263 rows x 8 columns]",
      "text/html": "<div>\n<style scoped>\n    .dataframe tbody tr th:only-of-type {\n        vertical-align: middle;\n    }\n\n    .dataframe tbody tr th {\n        vertical-align: top;\n    }\n\n    .dataframe thead th {\n        text-align: right;\n    }\n</style>\n<table border=\"1\" class=\"dataframe\">\n  <thead>\n    <tr style=\"text-align: right;\">\n      <th></th>\n      <th>userId</th>\n      <th>movieId</th>\n      <th>rating</th>\n      <th>rating_atleast_3</th>\n      <th>rating_atleast_4</th>\n      <th>rating_atleast_5</th>\n      <th>rating_atleast_user_mean</th>\n      <th>rating_atleast_user_median</th>\n    </tr>\n  </thead>\n  <tbody>\n    <tr>\n      <th>0</th>\n      <td>1</td>\n      <td>2</td>\n      <td>3.5</td>\n      <td>True</td>\n      <td>True</td>\n      <td>False</td>\n      <td>False</td>\n      <td>False</td>\n    </tr>\n    <tr>\n      <th>1</th>\n      <td>1</td>\n      <td>29</td>\n      <td>3.5</td>\n      <td>True</td>\n      <td>True</td>\n      <td>False</td>\n      <td>False</td>\n      <td>False</td>\n    </tr>\n    <tr>\n      <th>2</th>\n      <td>1</td>\n      <td>32</td>\n      <td>3.5</td>\n      <td>True</td>\n      <td>True</td>\n      <td>False</td>\n      <td>False</td>\n      <td>False</td>\n    </tr>\n    <tr>\n      <th>3</th>\n      <td>1</td>\n      <td>47</td>\n      <td>3.5</td>\n      <td>True</td>\n      <td>True</td>\n      <td>False</td>\n      <td>False</td>\n      <td>False</td>\n    </tr>\n    <tr>\n      <th>4</th>\n      <td>1</td>\n      <td>50</td>\n      <td>3.5</td>\n      <td>True</td>\n      <td>True</td>\n      <td>False</td>\n      <td>False</td>\n      <td>False</td>\n    </tr>\n    <tr>\n      <th>...</th>\n      <td>...</td>\n      <td>...</td>\n      <td>...</td>\n      <td>...</td>\n      <td>...</td>\n      <td>...</td>\n      <td>...</td>\n      <td>...</td>\n    </tr>\n    <tr>\n      <th>20000258</th>\n      <td>138493</td>\n      <td>68954</td>\n      <td>4.5</td>\n      <td>True</td>\n      <td>True</td>\n      <td>True</td>\n      <td>True</td>\n      <td>True</td>\n    </tr>\n    <tr>\n      <th>20000259</th>\n      <td>138493</td>\n      <td>69526</td>\n      <td>4.5</td>\n      <td>True</td>\n      <td>True</td>\n      <td>True</td>\n      <td>True</td>\n      <td>True</td>\n    </tr>\n    <tr>\n      <th>20000260</th>\n      <td>138493</td>\n      <td>69644</td>\n      <td>3.0</td>\n      <td>True</td>\n      <td>False</td>\n      <td>False</td>\n      <td>False</td>\n      <td>False</td>\n    </tr>\n    <tr>\n      <th>20000261</th>\n      <td>138493</td>\n      <td>70286</td>\n      <td>5.0</td>\n      <td>True</td>\n      <td>True</td>\n      <td>True</td>\n      <td>True</td>\n      <td>True</td>\n    </tr>\n    <tr>\n      <th>20000262</th>\n      <td>138493</td>\n      <td>71619</td>\n      <td>2.5</td>\n      <td>True</td>\n      <td>False</td>\n      <td>False</td>\n      <td>False</td>\n      <td>False</td>\n    </tr>\n  </tbody>\n</table>\n<p>20000263 rows × 8 columns</p>\n</div>"
     },
     "execution_count": 12,
     "metadata": {},
     "output_type": "execute_result"
    }
   ],
   "source": [
    "targets_df"
   ],
   "metadata": {
    "collapsed": false,
    "ExecuteTime": {
     "end_time": "2024-03-26T01:03:04.112339Z",
     "start_time": "2024-03-26T01:03:04.085340Z"
    }
   },
   "id": "28422fd3b996dbd2",
   "execution_count": 12
  },
  {
   "cell_type": "code",
   "outputs": [
    {
     "data": {
      "text/plain": "          userId  movieId  rating            timestamp  \\\n0              1        2     3.5  2005-04-02 23:53:47   \n1              1       29     3.5  2005-04-02 23:31:16   \n2              1       32     3.5  2005-04-02 23:33:39   \n3              1       47     3.5  2005-04-02 23:32:07   \n4              1       50     3.5  2005-04-02 23:29:40   \n...          ...      ...     ...                  ...   \n20000258  138493    68954     4.5  2009-11-13 15:42:00   \n20000259  138493    69526     4.5  2009-12-03 18:31:48   \n20000260  138493    69644     3.0  2009-12-07 18:10:57   \n20000261  138493    70286     5.0  2009-11-13 15:42:24   \n20000262  138493    71619     2.5  2009-10-17 20:25:36   \n\n                                                      title  \\\n0                                            jumanji (1995)   \n1         city of lost children, the (cité des enfants p...   \n2                 twelve monkeys (a.k.a. 12 monkeys) (1995)   \n3                               seven (a.k.a. se7en) (1995)   \n4                                usual suspects, the (1995)   \n...                                                     ...   \n20000258                                          up (2009)   \n20000259         transformers: revenge of the fallen (2009)   \n20000260              ice age: dawn of the dinosaurs (2009)   \n20000261                                  district 9 (2009)   \n20000262      coco before chanel (coco avant chanel) (2009)   \n\n                                                     genres  \\\n0                                Adventure|Children|Fantasy   \n1                    Adventure|Drama|Fantasy|Mystery|Sci-Fi   \n2                                   Mystery|Sci-Fi|Thriller   \n3                                          Mystery|Thriller   \n4                                    Crime|Mystery|Thriller   \n...                                                     ...   \n20000258                 Adventure|Animation|Children|Drama   \n20000259                       Action|Adventure|Sci-Fi|IMAX   \n20000260  Action|Adventure|Animation|Children|Comedy|Rom...   \n20000261                            Mystery|Sci-Fi|Thriller   \n20000262                                              Drama   \n\n                                                clean_title  year  action  \\\n0                                                  jumanji   1995     0.0   \n1         city of lost children the cit des enfants perd...  1995     0.0   \n2                            twelve monkeys aka 12 monkeys   1995     0.0   \n3                                          seven aka se7en   1995     0.0   \n4                                       usual suspects the   1995     0.0   \n...                                                     ...   ...     ...   \n20000258                                                up   2009     0.0   \n20000259                transformers revenge of the fallen   2009     1.0   \n20000260                     ice age dawn of the dinosaurs   2009     1.0   \n20000261                                        district 9   2009     0.0   \n20000262              coco before chanel coco avant chanel   2009     0.0   \n\n          adventure  ...  horror  imax  musical  mystery  no_genres_listed  \\\n0               1.0  ...     0.0   0.0      0.0      0.0               0.0   \n1               1.0  ...     0.0   0.0      0.0      1.0               0.0   \n2               0.0  ...     0.0   0.0      0.0      1.0               0.0   \n3               0.0  ...     0.0   0.0      0.0      1.0               0.0   \n4               0.0  ...     0.0   0.0      0.0      1.0               0.0   \n...             ...  ...     ...   ...      ...      ...               ...   \n20000258        1.0  ...     0.0   0.0      0.0      0.0               0.0   \n20000259        1.0  ...     0.0   1.0      0.0      0.0               0.0   \n20000260        1.0  ...     0.0   0.0      0.0      0.0               0.0   \n20000261        0.0  ...     0.0   0.0      0.0      1.0               0.0   \n20000262        0.0  ...     0.0   0.0      0.0      0.0               0.0   \n\n          romance  scifi  thriller  war  western  \n0             0.0    0.0       0.0  0.0      0.0  \n1             0.0    1.0       0.0  0.0      0.0  \n2             0.0    1.0       1.0  0.0      0.0  \n3             0.0    0.0       1.0  0.0      0.0  \n4             0.0    0.0       1.0  0.0      0.0  \n...           ...    ...       ...  ...      ...  \n20000258      0.0    0.0       0.0  0.0      0.0  \n20000259      0.0    1.0       0.0  0.0      0.0  \n20000260      1.0    0.0       0.0  0.0      0.0  \n20000261      0.0    1.0       1.0  0.0      0.0  \n20000262      0.0    0.0       0.0  0.0      0.0  \n\n[20000263 rows x 28 columns]",
      "text/html": "<div>\n<style scoped>\n    .dataframe tbody tr th:only-of-type {\n        vertical-align: middle;\n    }\n\n    .dataframe tbody tr th {\n        vertical-align: top;\n    }\n\n    .dataframe thead th {\n        text-align: right;\n    }\n</style>\n<table border=\"1\" class=\"dataframe\">\n  <thead>\n    <tr style=\"text-align: right;\">\n      <th></th>\n      <th>userId</th>\n      <th>movieId</th>\n      <th>rating</th>\n      <th>timestamp</th>\n      <th>title</th>\n      <th>genres</th>\n      <th>clean_title</th>\n      <th>year</th>\n      <th>action</th>\n      <th>adventure</th>\n      <th>...</th>\n      <th>horror</th>\n      <th>imax</th>\n      <th>musical</th>\n      <th>mystery</th>\n      <th>no_genres_listed</th>\n      <th>romance</th>\n      <th>scifi</th>\n      <th>thriller</th>\n      <th>war</th>\n      <th>western</th>\n    </tr>\n  </thead>\n  <tbody>\n    <tr>\n      <th>0</th>\n      <td>1</td>\n      <td>2</td>\n      <td>3.5</td>\n      <td>2005-04-02 23:53:47</td>\n      <td>jumanji (1995)</td>\n      <td>Adventure|Children|Fantasy</td>\n      <td>jumanji</td>\n      <td>1995</td>\n      <td>0.0</td>\n      <td>1.0</td>\n      <td>...</td>\n      <td>0.0</td>\n      <td>0.0</td>\n      <td>0.0</td>\n      <td>0.0</td>\n      <td>0.0</td>\n      <td>0.0</td>\n      <td>0.0</td>\n      <td>0.0</td>\n      <td>0.0</td>\n      <td>0.0</td>\n    </tr>\n    <tr>\n      <th>1</th>\n      <td>1</td>\n      <td>29</td>\n      <td>3.5</td>\n      <td>2005-04-02 23:31:16</td>\n      <td>city of lost children, the (cité des enfants p...</td>\n      <td>Adventure|Drama|Fantasy|Mystery|Sci-Fi</td>\n      <td>city of lost children the cit des enfants perd...</td>\n      <td>1995</td>\n      <td>0.0</td>\n      <td>1.0</td>\n      <td>...</td>\n      <td>0.0</td>\n      <td>0.0</td>\n      <td>0.0</td>\n      <td>1.0</td>\n      <td>0.0</td>\n      <td>0.0</td>\n      <td>1.0</td>\n      <td>0.0</td>\n      <td>0.0</td>\n      <td>0.0</td>\n    </tr>\n    <tr>\n      <th>2</th>\n      <td>1</td>\n      <td>32</td>\n      <td>3.5</td>\n      <td>2005-04-02 23:33:39</td>\n      <td>twelve monkeys (a.k.a. 12 monkeys) (1995)</td>\n      <td>Mystery|Sci-Fi|Thriller</td>\n      <td>twelve monkeys aka 12 monkeys</td>\n      <td>1995</td>\n      <td>0.0</td>\n      <td>0.0</td>\n      <td>...</td>\n      <td>0.0</td>\n      <td>0.0</td>\n      <td>0.0</td>\n      <td>1.0</td>\n      <td>0.0</td>\n      <td>0.0</td>\n      <td>1.0</td>\n      <td>1.0</td>\n      <td>0.0</td>\n      <td>0.0</td>\n    </tr>\n    <tr>\n      <th>3</th>\n      <td>1</td>\n      <td>47</td>\n      <td>3.5</td>\n      <td>2005-04-02 23:32:07</td>\n      <td>seven (a.k.a. se7en) (1995)</td>\n      <td>Mystery|Thriller</td>\n      <td>seven aka se7en</td>\n      <td>1995</td>\n      <td>0.0</td>\n      <td>0.0</td>\n      <td>...</td>\n      <td>0.0</td>\n      <td>0.0</td>\n      <td>0.0</td>\n      <td>1.0</td>\n      <td>0.0</td>\n      <td>0.0</td>\n      <td>0.0</td>\n      <td>1.0</td>\n      <td>0.0</td>\n      <td>0.0</td>\n    </tr>\n    <tr>\n      <th>4</th>\n      <td>1</td>\n      <td>50</td>\n      <td>3.5</td>\n      <td>2005-04-02 23:29:40</td>\n      <td>usual suspects, the (1995)</td>\n      <td>Crime|Mystery|Thriller</td>\n      <td>usual suspects the</td>\n      <td>1995</td>\n      <td>0.0</td>\n      <td>0.0</td>\n      <td>...</td>\n      <td>0.0</td>\n      <td>0.0</td>\n      <td>0.0</td>\n      <td>1.0</td>\n      <td>0.0</td>\n      <td>0.0</td>\n      <td>0.0</td>\n      <td>1.0</td>\n      <td>0.0</td>\n      <td>0.0</td>\n    </tr>\n    <tr>\n      <th>...</th>\n      <td>...</td>\n      <td>...</td>\n      <td>...</td>\n      <td>...</td>\n      <td>...</td>\n      <td>...</td>\n      <td>...</td>\n      <td>...</td>\n      <td>...</td>\n      <td>...</td>\n      <td>...</td>\n      <td>...</td>\n      <td>...</td>\n      <td>...</td>\n      <td>...</td>\n      <td>...</td>\n      <td>...</td>\n      <td>...</td>\n      <td>...</td>\n      <td>...</td>\n      <td>...</td>\n    </tr>\n    <tr>\n      <th>20000258</th>\n      <td>138493</td>\n      <td>68954</td>\n      <td>4.5</td>\n      <td>2009-11-13 15:42:00</td>\n      <td>up (2009)</td>\n      <td>Adventure|Animation|Children|Drama</td>\n      <td>up</td>\n      <td>2009</td>\n      <td>0.0</td>\n      <td>1.0</td>\n      <td>...</td>\n      <td>0.0</td>\n      <td>0.0</td>\n      <td>0.0</td>\n      <td>0.0</td>\n      <td>0.0</td>\n      <td>0.0</td>\n      <td>0.0</td>\n      <td>0.0</td>\n      <td>0.0</td>\n      <td>0.0</td>\n    </tr>\n    <tr>\n      <th>20000259</th>\n      <td>138493</td>\n      <td>69526</td>\n      <td>4.5</td>\n      <td>2009-12-03 18:31:48</td>\n      <td>transformers: revenge of the fallen (2009)</td>\n      <td>Action|Adventure|Sci-Fi|IMAX</td>\n      <td>transformers revenge of the fallen</td>\n      <td>2009</td>\n      <td>1.0</td>\n      <td>1.0</td>\n      <td>...</td>\n      <td>0.0</td>\n      <td>1.0</td>\n      <td>0.0</td>\n      <td>0.0</td>\n      <td>0.0</td>\n      <td>0.0</td>\n      <td>1.0</td>\n      <td>0.0</td>\n      <td>0.0</td>\n      <td>0.0</td>\n    </tr>\n    <tr>\n      <th>20000260</th>\n      <td>138493</td>\n      <td>69644</td>\n      <td>3.0</td>\n      <td>2009-12-07 18:10:57</td>\n      <td>ice age: dawn of the dinosaurs (2009)</td>\n      <td>Action|Adventure|Animation|Children|Comedy|Rom...</td>\n      <td>ice age dawn of the dinosaurs</td>\n      <td>2009</td>\n      <td>1.0</td>\n      <td>1.0</td>\n      <td>...</td>\n      <td>0.0</td>\n      <td>0.0</td>\n      <td>0.0</td>\n      <td>0.0</td>\n      <td>0.0</td>\n      <td>1.0</td>\n      <td>0.0</td>\n      <td>0.0</td>\n      <td>0.0</td>\n      <td>0.0</td>\n    </tr>\n    <tr>\n      <th>20000261</th>\n      <td>138493</td>\n      <td>70286</td>\n      <td>5.0</td>\n      <td>2009-11-13 15:42:24</td>\n      <td>district 9 (2009)</td>\n      <td>Mystery|Sci-Fi|Thriller</td>\n      <td>district 9</td>\n      <td>2009</td>\n      <td>0.0</td>\n      <td>0.0</td>\n      <td>...</td>\n      <td>0.0</td>\n      <td>0.0</td>\n      <td>0.0</td>\n      <td>1.0</td>\n      <td>0.0</td>\n      <td>0.0</td>\n      <td>1.0</td>\n      <td>1.0</td>\n      <td>0.0</td>\n      <td>0.0</td>\n    </tr>\n    <tr>\n      <th>20000262</th>\n      <td>138493</td>\n      <td>71619</td>\n      <td>2.5</td>\n      <td>2009-10-17 20:25:36</td>\n      <td>coco before chanel (coco avant chanel) (2009)</td>\n      <td>Drama</td>\n      <td>coco before chanel coco avant chanel</td>\n      <td>2009</td>\n      <td>0.0</td>\n      <td>0.0</td>\n      <td>...</td>\n      <td>0.0</td>\n      <td>0.0</td>\n      <td>0.0</td>\n      <td>0.0</td>\n      <td>0.0</td>\n      <td>0.0</td>\n      <td>0.0</td>\n      <td>0.0</td>\n      <td>0.0</td>\n      <td>0.0</td>\n    </tr>\n  </tbody>\n</table>\n<p>20000263 rows × 28 columns</p>\n</div>"
     },
     "execution_count": 14,
     "metadata": {},
     "output_type": "execute_result"
    }
   ],
   "source": [
    "# Feature Building\n",
    "rating_df.merge(\n",
    "    item_df, on=IID, how='left'\n",
    ")"
   ],
   "metadata": {
    "collapsed": false,
    "ExecuteTime": {
     "end_time": "2024-03-26T01:10:12.210984Z",
     "start_time": "2024-03-26T01:09:17.920477Z"
    }
   },
   "id": "7c948c7da741bbb7",
   "execution_count": 14
  },
  {
   "cell_type": "code",
   "outputs": [
    {
     "data": {
      "text/plain": "       year\n0      1995\n50     1994\n60     1996\n109    1976\n119    1992\n...     ...\n23796  1895\n23865  2015\n24984  1900\n26199  1905\n27015  1891\n\n[121 rows x 1 columns]",
      "text/html": "<div>\n<style scoped>\n    .dataframe tbody tr th:only-of-type {\n        vertical-align: middle;\n    }\n\n    .dataframe tbody tr th {\n        vertical-align: top;\n    }\n\n    .dataframe thead th {\n        text-align: right;\n    }\n</style>\n<table border=\"1\" class=\"dataframe\">\n  <thead>\n    <tr style=\"text-align: right;\">\n      <th></th>\n      <th>year</th>\n    </tr>\n  </thead>\n  <tbody>\n    <tr>\n      <th>0</th>\n      <td>1995</td>\n    </tr>\n    <tr>\n      <th>50</th>\n      <td>1994</td>\n    </tr>\n    <tr>\n      <th>60</th>\n      <td>1996</td>\n    </tr>\n    <tr>\n      <th>109</th>\n      <td>1976</td>\n    </tr>\n    <tr>\n      <th>119</th>\n      <td>1992</td>\n    </tr>\n    <tr>\n      <th>...</th>\n      <td>...</td>\n    </tr>\n    <tr>\n      <th>23796</th>\n      <td>1895</td>\n    </tr>\n    <tr>\n      <th>23865</th>\n      <td>2015</td>\n    </tr>\n    <tr>\n      <th>24984</th>\n      <td>1900</td>\n    </tr>\n    <tr>\n      <th>26199</th>\n      <td>1905</td>\n    </tr>\n    <tr>\n      <th>27015</th>\n      <td>1891</td>\n    </tr>\n  </tbody>\n</table>\n<p>121 rows × 1 columns</p>\n</div>"
     },
     "execution_count": 17,
     "metadata": {},
     "output_type": "execute_result"
    }
   ],
   "source": [
    "item_df[['year']].drop_duplicates()"
   ],
   "metadata": {
    "collapsed": false,
    "ExecuteTime": {
     "end_time": "2024-03-26T01:13:23.034929Z",
     "start_time": "2024-03-26T01:13:22.996930Z"
    }
   },
   "id": "81a58cf078c9ec2a",
   "execution_count": 17
  },
  {
   "cell_type": "code",
   "outputs": [
    {
     "data": {
      "text/plain": "       movieId                                  title                genres  \\\n10593    40697                              babylon 5                Sci-Fi   \n23617   112406  brazil: in the shadow of the stadiums           Documentary   \n23824   113190                     slaying the badger           Documentary   \n24286   115133             tatort: im schmerz geboren                 Crime   \n24412   115685    national theatre live: frankenstein         Drama|Fantasy   \n26115   125571   the court-martial of jackie robinson    (no genres listed)   \n26127   125632                          in our garden    (no genres listed)   \n26180   125958     stephen fry in america - new world    (no genres listed)   \n26335   126438         two: the story of roman & nyro     Documentary|Drama   \n26395   126929                          li'l quinquin    (no genres listed)   \n26432   127005        a year along the abandoned road    (no genres listed)   \n26749   128612                             body/cialo  Comedy|Drama|Mystery   \n26784   128734                          polskie gówno        Comedy|Musical   \n26963   129651       the third reich: the rise & fall    (no genres listed)   \n26974   129705                             my own man    (no genres listed)   \n27027   129887                            moving alan    (no genres listed)   \n27114   130454    michael laudrup - en fodboldspiller    (no genres listed)   \n\n                                clean_title  year  action  adventure  \\\n10593                             babylon 5  None     0.0        0.0   \n23617  brazil in the shadow of the stadiums  None     0.0        0.0   \n23824                    slaying the badger  None     0.0        0.0   \n24286             tatort im schmerz geboren  None     0.0        0.0   \n24412    national theatre live frankenstein  None     0.0        0.0   \n26115   the courtmartial of jackie robinson  None     0.0        0.0   \n26127                         in our garden  None     0.0        0.0   \n26180     stephen fry in america  new world  None     0.0        0.0   \n26335          two the story of roman  nyro  None     0.0        0.0   \n26395                          lil quinquin  None     0.0        0.0   \n26432       a year along the abandoned road  None     0.0        0.0   \n26749                             bodycialo  None     0.0        0.0   \n26784                          polskie gwno  None     0.0        0.0   \n26963        the third reich the rise  fall  None     0.0        0.0   \n26974                            my own man  None     0.0        0.0   \n27027                           moving alan  None     0.0        0.0   \n27114    michael laudrup  en fodboldspiller  None     0.0        0.0   \n\n       animation  children  comedy  ...  horror  imax  musical  mystery  \\\n10593        0.0       0.0     0.0  ...     0.0   0.0      0.0      0.0   \n23617        0.0       0.0     0.0  ...     0.0   0.0      0.0      0.0   \n23824        0.0       0.0     0.0  ...     0.0   0.0      0.0      0.0   \n24286        0.0       0.0     0.0  ...     0.0   0.0      0.0      0.0   \n24412        0.0       0.0     0.0  ...     0.0   0.0      0.0      0.0   \n26115        0.0       0.0     0.0  ...     0.0   0.0      0.0      0.0   \n26127        0.0       0.0     0.0  ...     0.0   0.0      0.0      0.0   \n26180        0.0       0.0     0.0  ...     0.0   0.0      0.0      0.0   \n26335        0.0       0.0     0.0  ...     0.0   0.0      0.0      0.0   \n26395        0.0       0.0     0.0  ...     0.0   0.0      0.0      0.0   \n26432        0.0       0.0     0.0  ...     0.0   0.0      0.0      0.0   \n26749        0.0       0.0     1.0  ...     0.0   0.0      0.0      1.0   \n26784        0.0       0.0     1.0  ...     0.0   0.0      1.0      0.0   \n26963        0.0       0.0     0.0  ...     0.0   0.0      0.0      0.0   \n26974        0.0       0.0     0.0  ...     0.0   0.0      0.0      0.0   \n27027        0.0       0.0     0.0  ...     0.0   0.0      0.0      0.0   \n27114        0.0       0.0     0.0  ...     0.0   0.0      0.0      0.0   \n\n       no_genres_listed  romance  scifi  thriller  war  western  \n10593               0.0      0.0    1.0       0.0  0.0      0.0  \n23617               0.0      0.0    0.0       0.0  0.0      0.0  \n23824               0.0      0.0    0.0       0.0  0.0      0.0  \n24286               0.0      0.0    0.0       0.0  0.0      0.0  \n24412               0.0      0.0    0.0       0.0  0.0      0.0  \n26115               1.0      0.0    0.0       0.0  0.0      0.0  \n26127               1.0      0.0    0.0       0.0  0.0      0.0  \n26180               1.0      0.0    0.0       0.0  0.0      0.0  \n26335               0.0      0.0    0.0       0.0  0.0      0.0  \n26395               1.0      0.0    0.0       0.0  0.0      0.0  \n26432               1.0      0.0    0.0       0.0  0.0      0.0  \n26749               0.0      0.0    0.0       0.0  0.0      0.0  \n26784               0.0      0.0    0.0       0.0  0.0      0.0  \n26963               1.0      0.0    0.0       0.0  0.0      0.0  \n26974               1.0      0.0    0.0       0.0  0.0      0.0  \n27027               1.0      0.0    0.0       0.0  0.0      0.0  \n27114               1.0      0.0    0.0       0.0  0.0      0.0  \n\n[17 rows x 25 columns]",
      "text/html": "<div>\n<style scoped>\n    .dataframe tbody tr th:only-of-type {\n        vertical-align: middle;\n    }\n\n    .dataframe tbody tr th {\n        vertical-align: top;\n    }\n\n    .dataframe thead th {\n        text-align: right;\n    }\n</style>\n<table border=\"1\" class=\"dataframe\">\n  <thead>\n    <tr style=\"text-align: right;\">\n      <th></th>\n      <th>movieId</th>\n      <th>title</th>\n      <th>genres</th>\n      <th>clean_title</th>\n      <th>year</th>\n      <th>action</th>\n      <th>adventure</th>\n      <th>animation</th>\n      <th>children</th>\n      <th>comedy</th>\n      <th>...</th>\n      <th>horror</th>\n      <th>imax</th>\n      <th>musical</th>\n      <th>mystery</th>\n      <th>no_genres_listed</th>\n      <th>romance</th>\n      <th>scifi</th>\n      <th>thriller</th>\n      <th>war</th>\n      <th>western</th>\n    </tr>\n  </thead>\n  <tbody>\n    <tr>\n      <th>10593</th>\n      <td>40697</td>\n      <td>babylon 5</td>\n      <td>Sci-Fi</td>\n      <td>babylon 5</td>\n      <td>None</td>\n      <td>0.0</td>\n      <td>0.0</td>\n      <td>0.0</td>\n      <td>0.0</td>\n      <td>0.0</td>\n      <td>...</td>\n      <td>0.0</td>\n      <td>0.0</td>\n      <td>0.0</td>\n      <td>0.0</td>\n      <td>0.0</td>\n      <td>0.0</td>\n      <td>1.0</td>\n      <td>0.0</td>\n      <td>0.0</td>\n      <td>0.0</td>\n    </tr>\n    <tr>\n      <th>23617</th>\n      <td>112406</td>\n      <td>brazil: in the shadow of the stadiums</td>\n      <td>Documentary</td>\n      <td>brazil in the shadow of the stadiums</td>\n      <td>None</td>\n      <td>0.0</td>\n      <td>0.0</td>\n      <td>0.0</td>\n      <td>0.0</td>\n      <td>0.0</td>\n      <td>...</td>\n      <td>0.0</td>\n      <td>0.0</td>\n      <td>0.0</td>\n      <td>0.0</td>\n      <td>0.0</td>\n      <td>0.0</td>\n      <td>0.0</td>\n      <td>0.0</td>\n      <td>0.0</td>\n      <td>0.0</td>\n    </tr>\n    <tr>\n      <th>23824</th>\n      <td>113190</td>\n      <td>slaying the badger</td>\n      <td>Documentary</td>\n      <td>slaying the badger</td>\n      <td>None</td>\n      <td>0.0</td>\n      <td>0.0</td>\n      <td>0.0</td>\n      <td>0.0</td>\n      <td>0.0</td>\n      <td>...</td>\n      <td>0.0</td>\n      <td>0.0</td>\n      <td>0.0</td>\n      <td>0.0</td>\n      <td>0.0</td>\n      <td>0.0</td>\n      <td>0.0</td>\n      <td>0.0</td>\n      <td>0.0</td>\n      <td>0.0</td>\n    </tr>\n    <tr>\n      <th>24286</th>\n      <td>115133</td>\n      <td>tatort: im schmerz geboren</td>\n      <td>Crime</td>\n      <td>tatort im schmerz geboren</td>\n      <td>None</td>\n      <td>0.0</td>\n      <td>0.0</td>\n      <td>0.0</td>\n      <td>0.0</td>\n      <td>0.0</td>\n      <td>...</td>\n      <td>0.0</td>\n      <td>0.0</td>\n      <td>0.0</td>\n      <td>0.0</td>\n      <td>0.0</td>\n      <td>0.0</td>\n      <td>0.0</td>\n      <td>0.0</td>\n      <td>0.0</td>\n      <td>0.0</td>\n    </tr>\n    <tr>\n      <th>24412</th>\n      <td>115685</td>\n      <td>national theatre live: frankenstein</td>\n      <td>Drama|Fantasy</td>\n      <td>national theatre live frankenstein</td>\n      <td>None</td>\n      <td>0.0</td>\n      <td>0.0</td>\n      <td>0.0</td>\n      <td>0.0</td>\n      <td>0.0</td>\n      <td>...</td>\n      <td>0.0</td>\n      <td>0.0</td>\n      <td>0.0</td>\n      <td>0.0</td>\n      <td>0.0</td>\n      <td>0.0</td>\n      <td>0.0</td>\n      <td>0.0</td>\n      <td>0.0</td>\n      <td>0.0</td>\n    </tr>\n    <tr>\n      <th>26115</th>\n      <td>125571</td>\n      <td>the court-martial of jackie robinson</td>\n      <td>(no genres listed)</td>\n      <td>the courtmartial of jackie robinson</td>\n      <td>None</td>\n      <td>0.0</td>\n      <td>0.0</td>\n      <td>0.0</td>\n      <td>0.0</td>\n      <td>0.0</td>\n      <td>...</td>\n      <td>0.0</td>\n      <td>0.0</td>\n      <td>0.0</td>\n      <td>0.0</td>\n      <td>1.0</td>\n      <td>0.0</td>\n      <td>0.0</td>\n      <td>0.0</td>\n      <td>0.0</td>\n      <td>0.0</td>\n    </tr>\n    <tr>\n      <th>26127</th>\n      <td>125632</td>\n      <td>in our garden</td>\n      <td>(no genres listed)</td>\n      <td>in our garden</td>\n      <td>None</td>\n      <td>0.0</td>\n      <td>0.0</td>\n      <td>0.0</td>\n      <td>0.0</td>\n      <td>0.0</td>\n      <td>...</td>\n      <td>0.0</td>\n      <td>0.0</td>\n      <td>0.0</td>\n      <td>0.0</td>\n      <td>1.0</td>\n      <td>0.0</td>\n      <td>0.0</td>\n      <td>0.0</td>\n      <td>0.0</td>\n      <td>0.0</td>\n    </tr>\n    <tr>\n      <th>26180</th>\n      <td>125958</td>\n      <td>stephen fry in america - new world</td>\n      <td>(no genres listed)</td>\n      <td>stephen fry in america  new world</td>\n      <td>None</td>\n      <td>0.0</td>\n      <td>0.0</td>\n      <td>0.0</td>\n      <td>0.0</td>\n      <td>0.0</td>\n      <td>...</td>\n      <td>0.0</td>\n      <td>0.0</td>\n      <td>0.0</td>\n      <td>0.0</td>\n      <td>1.0</td>\n      <td>0.0</td>\n      <td>0.0</td>\n      <td>0.0</td>\n      <td>0.0</td>\n      <td>0.0</td>\n    </tr>\n    <tr>\n      <th>26335</th>\n      <td>126438</td>\n      <td>two: the story of roman &amp; nyro</td>\n      <td>Documentary|Drama</td>\n      <td>two the story of roman  nyro</td>\n      <td>None</td>\n      <td>0.0</td>\n      <td>0.0</td>\n      <td>0.0</td>\n      <td>0.0</td>\n      <td>0.0</td>\n      <td>...</td>\n      <td>0.0</td>\n      <td>0.0</td>\n      <td>0.0</td>\n      <td>0.0</td>\n      <td>0.0</td>\n      <td>0.0</td>\n      <td>0.0</td>\n      <td>0.0</td>\n      <td>0.0</td>\n      <td>0.0</td>\n    </tr>\n    <tr>\n      <th>26395</th>\n      <td>126929</td>\n      <td>li'l quinquin</td>\n      <td>(no genres listed)</td>\n      <td>lil quinquin</td>\n      <td>None</td>\n      <td>0.0</td>\n      <td>0.0</td>\n      <td>0.0</td>\n      <td>0.0</td>\n      <td>0.0</td>\n      <td>...</td>\n      <td>0.0</td>\n      <td>0.0</td>\n      <td>0.0</td>\n      <td>0.0</td>\n      <td>1.0</td>\n      <td>0.0</td>\n      <td>0.0</td>\n      <td>0.0</td>\n      <td>0.0</td>\n      <td>0.0</td>\n    </tr>\n    <tr>\n      <th>26432</th>\n      <td>127005</td>\n      <td>a year along the abandoned road</td>\n      <td>(no genres listed)</td>\n      <td>a year along the abandoned road</td>\n      <td>None</td>\n      <td>0.0</td>\n      <td>0.0</td>\n      <td>0.0</td>\n      <td>0.0</td>\n      <td>0.0</td>\n      <td>...</td>\n      <td>0.0</td>\n      <td>0.0</td>\n      <td>0.0</td>\n      <td>0.0</td>\n      <td>1.0</td>\n      <td>0.0</td>\n      <td>0.0</td>\n      <td>0.0</td>\n      <td>0.0</td>\n      <td>0.0</td>\n    </tr>\n    <tr>\n      <th>26749</th>\n      <td>128612</td>\n      <td>body/cialo</td>\n      <td>Comedy|Drama|Mystery</td>\n      <td>bodycialo</td>\n      <td>None</td>\n      <td>0.0</td>\n      <td>0.0</td>\n      <td>0.0</td>\n      <td>0.0</td>\n      <td>1.0</td>\n      <td>...</td>\n      <td>0.0</td>\n      <td>0.0</td>\n      <td>0.0</td>\n      <td>1.0</td>\n      <td>0.0</td>\n      <td>0.0</td>\n      <td>0.0</td>\n      <td>0.0</td>\n      <td>0.0</td>\n      <td>0.0</td>\n    </tr>\n    <tr>\n      <th>26784</th>\n      <td>128734</td>\n      <td>polskie gówno</td>\n      <td>Comedy|Musical</td>\n      <td>polskie gwno</td>\n      <td>None</td>\n      <td>0.0</td>\n      <td>0.0</td>\n      <td>0.0</td>\n      <td>0.0</td>\n      <td>1.0</td>\n      <td>...</td>\n      <td>0.0</td>\n      <td>0.0</td>\n      <td>1.0</td>\n      <td>0.0</td>\n      <td>0.0</td>\n      <td>0.0</td>\n      <td>0.0</td>\n      <td>0.0</td>\n      <td>0.0</td>\n      <td>0.0</td>\n    </tr>\n    <tr>\n      <th>26963</th>\n      <td>129651</td>\n      <td>the third reich: the rise &amp; fall</td>\n      <td>(no genres listed)</td>\n      <td>the third reich the rise  fall</td>\n      <td>None</td>\n      <td>0.0</td>\n      <td>0.0</td>\n      <td>0.0</td>\n      <td>0.0</td>\n      <td>0.0</td>\n      <td>...</td>\n      <td>0.0</td>\n      <td>0.0</td>\n      <td>0.0</td>\n      <td>0.0</td>\n      <td>1.0</td>\n      <td>0.0</td>\n      <td>0.0</td>\n      <td>0.0</td>\n      <td>0.0</td>\n      <td>0.0</td>\n    </tr>\n    <tr>\n      <th>26974</th>\n      <td>129705</td>\n      <td>my own man</td>\n      <td>(no genres listed)</td>\n      <td>my own man</td>\n      <td>None</td>\n      <td>0.0</td>\n      <td>0.0</td>\n      <td>0.0</td>\n      <td>0.0</td>\n      <td>0.0</td>\n      <td>...</td>\n      <td>0.0</td>\n      <td>0.0</td>\n      <td>0.0</td>\n      <td>0.0</td>\n      <td>1.0</td>\n      <td>0.0</td>\n      <td>0.0</td>\n      <td>0.0</td>\n      <td>0.0</td>\n      <td>0.0</td>\n    </tr>\n    <tr>\n      <th>27027</th>\n      <td>129887</td>\n      <td>moving alan</td>\n      <td>(no genres listed)</td>\n      <td>moving alan</td>\n      <td>None</td>\n      <td>0.0</td>\n      <td>0.0</td>\n      <td>0.0</td>\n      <td>0.0</td>\n      <td>0.0</td>\n      <td>...</td>\n      <td>0.0</td>\n      <td>0.0</td>\n      <td>0.0</td>\n      <td>0.0</td>\n      <td>1.0</td>\n      <td>0.0</td>\n      <td>0.0</td>\n      <td>0.0</td>\n      <td>0.0</td>\n      <td>0.0</td>\n    </tr>\n    <tr>\n      <th>27114</th>\n      <td>130454</td>\n      <td>michael laudrup - en fodboldspiller</td>\n      <td>(no genres listed)</td>\n      <td>michael laudrup  en fodboldspiller</td>\n      <td>None</td>\n      <td>0.0</td>\n      <td>0.0</td>\n      <td>0.0</td>\n      <td>0.0</td>\n      <td>0.0</td>\n      <td>...</td>\n      <td>0.0</td>\n      <td>0.0</td>\n      <td>0.0</td>\n      <td>0.0</td>\n      <td>1.0</td>\n      <td>0.0</td>\n      <td>0.0</td>\n      <td>0.0</td>\n      <td>0.0</td>\n      <td>0.0</td>\n    </tr>\n  </tbody>\n</table>\n<p>17 rows × 25 columns</p>\n</div>"
     },
     "execution_count": 18,
     "metadata": {},
     "output_type": "execute_result"
    }
   ],
   "source": [
    "# Feature Ideas: Movie Age (from year), Age (From First View), Num Years Viewed\n",
    "item_df[item_df['year'].isna()]"
   ],
   "metadata": {
    "collapsed": false,
    "ExecuteTime": {
     "end_time": "2024-03-26T01:14:07.920158Z",
     "start_time": "2024-03-26T01:14:07.845163Z"
    }
   },
   "id": "c386dca81c0649d4",
   "execution_count": 18
  }
 ],
 "metadata": {
  "kernelspec": {
   "display_name": "Python 3 (ipykernel)",
   "language": "python",
   "name": "python3"
  },
  "language_info": {
   "codemirror_mode": {
    "name": "ipython",
    "version": 3
   },
   "file_extension": ".py",
   "mimetype": "text/x-python",
   "name": "python",
   "nbconvert_exporter": "python",
   "pygments_lexer": "ipython3",
   "version": "3.11.7"
  }
 },
 "nbformat": 4,
 "nbformat_minor": 5
}
