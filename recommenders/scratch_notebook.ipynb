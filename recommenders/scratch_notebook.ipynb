{
 "cells": [
  {
   "cell_type": "code",
   "outputs": [],
   "source": [],
   "metadata": {
    "collapsed": false,
    "ExecuteTime": {
     "end_time": "2024-03-22T20:07:25.167301Z",
     "start_time": "2024-03-22T20:07:25.158259Z"
    }
   },
   "id": "ec18f9098ff30859",
   "execution_count": null
  },
  {
   "cell_type": "code",
   "execution_count": 1,
   "id": "e19003e1-bdce-44c2-9475-9a8b9a281a95",
   "metadata": {
    "ExecuteTime": {
     "end_time": "2024-03-22T20:07:26.130439Z",
     "start_time": "2024-03-22T20:07:25.170261Z"
    }
   },
   "outputs": [],
   "source": [
    "# Module Imports\n",
    "from utils import *\n",
    "from local_files import data_directory"
   ]
  },
  {
   "cell_type": "code",
   "execution_count": 2,
   "id": "c248c0d0-fb88-447c-ae33-33913c6a4dcb",
   "metadata": {
    "ExecuteTime": {
     "end_time": "2024-03-22T20:07:26.146303Z",
     "start_time": "2024-03-22T20:07:26.132297Z"
    }
   },
   "outputs": [],
   "source": [
    "# Constants\n",
    "movie_data_csv = f\"{data_directory}/DataSets/movie.csv\"\n",
    "rating_data_csv = f\"{data_directory}/DataSets/rating.csv\"\n",
    "TITLE = 'title'"
   ]
  },
  {
   "cell_type": "code",
   "execution_count": 3,
   "id": "5a8efed0-5e0a-4d84-8c74-26870add1be7",
   "metadata": {
    "ExecuteTime": {
     "end_time": "2024-03-22T20:07:41.326264Z",
     "start_time": "2024-03-22T20:07:26.148257Z"
    }
   },
   "outputs": [],
   "source": [
    "# Read Data\n",
    "movie_df = pd.read_csv(movie_data_csv)\n",
    "rating_df = pd.read_csv(rating_data_csv)"
   ]
  },
  {
   "cell_type": "code",
   "execution_count": 4,
   "id": "23ecf03f-7704-4f93-acff-70f4d7f66592",
   "metadata": {
    "ExecuteTime": {
     "end_time": "2024-03-22T20:07:41.532451Z",
     "start_time": "2024-03-22T20:07:41.329257Z"
    }
   },
   "outputs": [],
   "source": [
    "# Data Transformations etc.\n",
    "users_id = rating_df[\"userId\"].unique()\n",
    "movies_id = movie_df[\"movieId\"].unique()"
   ]
  },
  {
   "cell_type": "code",
   "execution_count": 5,
   "id": "ac6344fa-c4b5-47d3-95d3-b9a4a2ec77b6",
   "metadata": {
    "ExecuteTime": {
     "end_time": "2024-03-22T20:07:41.564259Z",
     "start_time": "2024-03-22T20:07:41.534296Z"
    }
   },
   "outputs": [
    {
     "data": {
      "text/plain": "   movieId                     title  \\\n0        1          Toy Story (1995)   \n1        2            Jumanji (1995)   \n2        3   Grumpier Old Men (1995)   \n3        4  Waiting to Exhale (1995)   \n\n                                        genres  \n0  Adventure|Animation|Children|Comedy|Fantasy  \n1                   Adventure|Children|Fantasy  \n2                               Comedy|Romance  \n3                         Comedy|Drama|Romance  ",
      "text/html": "<div>\n<style scoped>\n    .dataframe tbody tr th:only-of-type {\n        vertical-align: middle;\n    }\n\n    .dataframe tbody tr th {\n        vertical-align: top;\n    }\n\n    .dataframe thead th {\n        text-align: right;\n    }\n</style>\n<table border=\"1\" class=\"dataframe\">\n  <thead>\n    <tr style=\"text-align: right;\">\n      <th></th>\n      <th>movieId</th>\n      <th>title</th>\n      <th>genres</th>\n    </tr>\n  </thead>\n  <tbody>\n    <tr>\n      <th>0</th>\n      <td>1</td>\n      <td>Toy Story (1995)</td>\n      <td>Adventure|Animation|Children|Comedy|Fantasy</td>\n    </tr>\n    <tr>\n      <th>1</th>\n      <td>2</td>\n      <td>Jumanji (1995)</td>\n      <td>Adventure|Children|Fantasy</td>\n    </tr>\n    <tr>\n      <th>2</th>\n      <td>3</td>\n      <td>Grumpier Old Men (1995)</td>\n      <td>Comedy|Romance</td>\n    </tr>\n    <tr>\n      <th>3</th>\n      <td>4</td>\n      <td>Waiting to Exhale (1995)</td>\n      <td>Comedy|Drama|Romance</td>\n    </tr>\n  </tbody>\n</table>\n</div>"
     },
     "execution_count": 5,
     "metadata": {},
     "output_type": "execute_result"
    }
   ],
   "source": [
    "movie_df.head(4)"
   ]
  },
  {
   "cell_type": "code",
   "execution_count": 6,
   "id": "1e1855b1-2e9e-4eaf-ae3c-c9e632a16663",
   "metadata": {
    "ExecuteTime": {
     "end_time": "2024-03-22T20:07:44.428259Z",
     "start_time": "2024-03-22T20:07:41.566256Z"
    }
   },
   "outputs": [
    {
     "ename": "KeyError",
     "evalue": "'is_genre'",
     "output_type": "error",
     "traceback": [
      "\u001B[1;31m---------------------------------------------------------------------------\u001B[0m",
      "\u001B[1;31mKeyError\u001B[0m                                  Traceback (most recent call last)",
      "File \u001B[1;32m~\\PycharmProjects\\pythonWill\\venv\\lib\\site-packages\\pandas\\core\\indexes\\base.py:3805\u001B[0m, in \u001B[0;36mIndex.get_loc\u001B[1;34m(self, key)\u001B[0m\n\u001B[0;32m   3804\u001B[0m \u001B[38;5;28;01mtry\u001B[39;00m:\n\u001B[1;32m-> 3805\u001B[0m     \u001B[38;5;28;01mreturn\u001B[39;00m \u001B[38;5;28;43mself\u001B[39;49m\u001B[38;5;241;43m.\u001B[39;49m\u001B[43m_engine\u001B[49m\u001B[38;5;241;43m.\u001B[39;49m\u001B[43mget_loc\u001B[49m\u001B[43m(\u001B[49m\u001B[43mcasted_key\u001B[49m\u001B[43m)\u001B[49m\n\u001B[0;32m   3806\u001B[0m \u001B[38;5;28;01mexcept\u001B[39;00m \u001B[38;5;167;01mKeyError\u001B[39;00m \u001B[38;5;28;01mas\u001B[39;00m err:\n",
      "File \u001B[1;32mindex.pyx:167\u001B[0m, in \u001B[0;36mpandas._libs.index.IndexEngine.get_loc\u001B[1;34m()\u001B[0m\n",
      "File \u001B[1;32mindex.pyx:196\u001B[0m, in \u001B[0;36mpandas._libs.index.IndexEngine.get_loc\u001B[1;34m()\u001B[0m\n",
      "File \u001B[1;32mpandas\\\\_libs\\\\hashtable_class_helper.pxi:7081\u001B[0m, in \u001B[0;36mpandas._libs.hashtable.PyObjectHashTable.get_item\u001B[1;34m()\u001B[0m\n",
      "File \u001B[1;32mpandas\\\\_libs\\\\hashtable_class_helper.pxi:7089\u001B[0m, in \u001B[0;36mpandas._libs.hashtable.PyObjectHashTable.get_item\u001B[1;34m()\u001B[0m\n",
      "\u001B[1;31mKeyError\u001B[0m: 'is_genre'",
      "\nThe above exception was the direct cause of the following exception:\n",
      "\u001B[1;31mKeyError\u001B[0m                                  Traceback (most recent call last)",
      "Cell \u001B[1;32mIn[6], line 1\u001B[0m\n\u001B[1;32m----> 1\u001B[0m item_df \u001B[38;5;241m=\u001B[39m \u001B[43mprocess_item_df\u001B[49m\u001B[43m(\u001B[49m\n\u001B[0;32m      2\u001B[0m \u001B[43m    \u001B[49m\u001B[43mitem_df\u001B[49m\u001B[38;5;241;43m=\u001B[39;49m\u001B[43mmovie_df\u001B[49m\u001B[43m,\u001B[49m\n\u001B[0;32m      3\u001B[0m \u001B[43m    \u001B[49m\u001B[43mitem_id_col\u001B[49m\u001B[38;5;241;43m=\u001B[39;49m\u001B[38;5;124;43m'\u001B[39;49m\u001B[38;5;124;43mmovieId\u001B[39;49m\u001B[38;5;124;43m'\u001B[39;49m\n\u001B[0;32m      4\u001B[0m \u001B[43m)\u001B[49m\n",
      "File \u001B[1;32m~\\PycharmProjects\\pythonWill\\recommenders\\utils.py:57\u001B[0m, in \u001B[0;36mprocess_item_df\u001B[1;34m(item_df, item_id_col)\u001B[0m\n\u001B[0;32m     49\u001B[0m \u001B[38;5;250m\u001B[39m\u001B[38;5;124;03m\"\"\"\u001B[39;00m\n\u001B[0;32m     50\u001B[0m \u001B[38;5;124;03mCleans and processes raw item data into a new dataframe that can be used for model building and inference.\u001B[39;00m\n\u001B[0;32m     51\u001B[0m \n\u001B[0;32m     52\u001B[0m \u001B[38;5;124;03m:param item_df: Raw item data with column for genre and title\u001B[39;00m\n\u001B[0;32m     53\u001B[0m \u001B[38;5;124;03m:param item_id_col: String column name of item id\u001B[39;00m\n\u001B[0;32m     54\u001B[0m \u001B[38;5;124;03m\"\"\"\u001B[39;00m\n\u001B[0;32m     56\u001B[0m clean_df \u001B[38;5;241m=\u001B[39m clean_item_data(item_df\u001B[38;5;241m=\u001B[39mitem_df)\n\u001B[1;32m---> 57\u001B[0m genre_df \u001B[38;5;241m=\u001B[39m \u001B[43mget_genre_df\u001B[49m\u001B[43m(\u001B[49m\u001B[43mitem_df\u001B[49m\u001B[38;5;241;43m=\u001B[39;49m\u001B[43mclean_df\u001B[49m\u001B[43m,\u001B[49m\u001B[43m \u001B[49m\u001B[43mitem_id_col\u001B[49m\u001B[38;5;241;43m=\u001B[39;49m\u001B[43mitem_id_col\u001B[49m\u001B[43m)\u001B[49m\n\u001B[0;32m     58\u001B[0m \u001B[38;5;66;03m# TODO: Prob less efficient to merge against the interaction df but good for now\u001B[39;00m\n\u001B[0;32m     59\u001B[0m \u001B[38;5;66;03m# TODO: In future construct an item df with only the item information\u001B[39;00m\n\u001B[0;32m     60\u001B[0m ret_df \u001B[38;5;241m=\u001B[39m clean_df\u001B[38;5;241m.\u001B[39mmerge(\n\u001B[0;32m     61\u001B[0m     genre_df,\n\u001B[0;32m     62\u001B[0m     on\u001B[38;5;241m=\u001B[39mitem_id_col,\n\u001B[0;32m     63\u001B[0m     how\u001B[38;5;241m=\u001B[39m\u001B[38;5;124m'\u001B[39m\u001B[38;5;124mleft\u001B[39m\u001B[38;5;124m'\u001B[39m\n\u001B[0;32m     64\u001B[0m )\n",
      "File \u001B[1;32m~\\PycharmProjects\\pythonWill\\recommenders\\utils.py:43\u001B[0m, in \u001B[0;36mget_genre_df\u001B[1;34m(item_df, item_id_col)\u001B[0m\n\u001B[0;32m     41\u001B[0m temp_df[temp_genre] \u001B[38;5;241m=\u001B[39m temp_df[temp_genre]\u001B[38;5;241m.\u001B[39mstr\u001B[38;5;241m.\u001B[39mreplace(\u001B[38;5;124m'\u001B[39m\u001B[38;5;124m \u001B[39m\u001B[38;5;124m'\u001B[39m, \u001B[38;5;124m'\u001B[39m\u001B[38;5;124m_\u001B[39m\u001B[38;5;124m'\u001B[39m, regex\u001B[38;5;241m=\u001B[39m\u001B[38;5;28;01mFalse\u001B[39;00m)\n\u001B[0;32m     42\u001B[0m temp_df[temp_genre] \u001B[38;5;241m=\u001B[39m \u001B[38;5;241m1\u001B[39m\n\u001B[1;32m---> 43\u001B[0m ret_df \u001B[38;5;241m=\u001B[39m \u001B[43mtemp_df\u001B[49m\u001B[38;5;241;43m.\u001B[39;49m\u001B[43mpivot\u001B[49m\u001B[43m(\u001B[49m\u001B[43mindex\u001B[49m\u001B[38;5;241;43m=\u001B[39;49m\u001B[43mitem_id_col\u001B[49m\u001B[43m,\u001B[49m\u001B[43m \u001B[49m\u001B[43mcolumns\u001B[49m\u001B[38;5;241;43m=\u001B[39;49m\u001B[43mtemp_genre\u001B[49m\u001B[43m,\u001B[49m\u001B[43m \u001B[49m\u001B[43mvalues\u001B[49m\u001B[38;5;241;43m=\u001B[39;49m\u001B[38;5;124;43m'\u001B[39;49m\u001B[38;5;124;43mis_genre\u001B[39;49m\u001B[38;5;124;43m'\u001B[39;49m\u001B[43m)\u001B[49m\u001B[38;5;241m.\u001B[39mfillna(\u001B[38;5;241m0\u001B[39m)\n\u001B[0;32m     45\u001B[0m \u001B[38;5;28;01mreturn\u001B[39;00m ret_df\n",
      "File \u001B[1;32m~\\PycharmProjects\\pythonWill\\venv\\lib\\site-packages\\pandas\\core\\frame.py:9326\u001B[0m, in \u001B[0;36mDataFrame.pivot\u001B[1;34m(self, columns, index, values)\u001B[0m\n\u001B[0;32m   9319\u001B[0m \u001B[38;5;129m@Substitution\u001B[39m(\u001B[38;5;124m\"\u001B[39m\u001B[38;5;124m\"\u001B[39m)\n\u001B[0;32m   9320\u001B[0m \u001B[38;5;129m@Appender\u001B[39m(_shared_docs[\u001B[38;5;124m\"\u001B[39m\u001B[38;5;124mpivot\u001B[39m\u001B[38;5;124m\"\u001B[39m])\n\u001B[0;32m   9321\u001B[0m \u001B[38;5;28;01mdef\u001B[39;00m \u001B[38;5;21mpivot\u001B[39m(\n\u001B[0;32m   9322\u001B[0m     \u001B[38;5;28mself\u001B[39m, \u001B[38;5;241m*\u001B[39m, columns, index\u001B[38;5;241m=\u001B[39mlib\u001B[38;5;241m.\u001B[39mno_default, values\u001B[38;5;241m=\u001B[39mlib\u001B[38;5;241m.\u001B[39mno_default\n\u001B[0;32m   9323\u001B[0m ) \u001B[38;5;241m-\u001B[39m\u001B[38;5;241m>\u001B[39m DataFrame:\n\u001B[0;32m   9324\u001B[0m     \u001B[38;5;28;01mfrom\u001B[39;00m \u001B[38;5;21;01mpandas\u001B[39;00m\u001B[38;5;21;01m.\u001B[39;00m\u001B[38;5;21;01mcore\u001B[39;00m\u001B[38;5;21;01m.\u001B[39;00m\u001B[38;5;21;01mreshape\u001B[39;00m\u001B[38;5;21;01m.\u001B[39;00m\u001B[38;5;21;01mpivot\u001B[39;00m \u001B[38;5;28;01mimport\u001B[39;00m pivot\n\u001B[1;32m-> 9326\u001B[0m     \u001B[38;5;28;01mreturn\u001B[39;00m \u001B[43mpivot\u001B[49m\u001B[43m(\u001B[49m\u001B[38;5;28;43mself\u001B[39;49m\u001B[43m,\u001B[49m\u001B[43m \u001B[49m\u001B[43mindex\u001B[49m\u001B[38;5;241;43m=\u001B[39;49m\u001B[43mindex\u001B[49m\u001B[43m,\u001B[49m\u001B[43m \u001B[49m\u001B[43mcolumns\u001B[49m\u001B[38;5;241;43m=\u001B[39;49m\u001B[43mcolumns\u001B[49m\u001B[43m,\u001B[49m\u001B[43m \u001B[49m\u001B[43mvalues\u001B[49m\u001B[38;5;241;43m=\u001B[39;49m\u001B[43mvalues\u001B[49m\u001B[43m)\u001B[49m\n",
      "File \u001B[1;32m~\\PycharmProjects\\pythonWill\\venv\\lib\\site-packages\\pandas\\core\\reshape\\pivot.py:566\u001B[0m, in \u001B[0;36mpivot\u001B[1;34m(data, columns, index, values)\u001B[0m\n\u001B[0;32m    562\u001B[0m         indexed \u001B[38;5;241m=\u001B[39m data\u001B[38;5;241m.\u001B[39m_constructor(\n\u001B[0;32m    563\u001B[0m             data[values]\u001B[38;5;241m.\u001B[39m_values, index\u001B[38;5;241m=\u001B[39mmultiindex, columns\u001B[38;5;241m=\u001B[39mvalues\n\u001B[0;32m    564\u001B[0m         )\n\u001B[0;32m    565\u001B[0m     \u001B[38;5;28;01melse\u001B[39;00m:\n\u001B[1;32m--> 566\u001B[0m         indexed \u001B[38;5;241m=\u001B[39m data\u001B[38;5;241m.\u001B[39m_constructor_sliced(\u001B[43mdata\u001B[49m\u001B[43m[\u001B[49m\u001B[43mvalues\u001B[49m\u001B[43m]\u001B[49m\u001B[38;5;241m.\u001B[39m_values, index\u001B[38;5;241m=\u001B[39mmultiindex)\n\u001B[0;32m    567\u001B[0m \u001B[38;5;66;03m# error: Argument 1 to \"unstack\" of \"DataFrame\" has incompatible type \"Union\u001B[39;00m\n\u001B[0;32m    568\u001B[0m \u001B[38;5;66;03m# [List[Any], ExtensionArray, ndarray[Any, Any], Index, Series]\"; expected\u001B[39;00m\n\u001B[0;32m    569\u001B[0m \u001B[38;5;66;03m# \"Hashable\"\u001B[39;00m\n\u001B[0;32m    570\u001B[0m result \u001B[38;5;241m=\u001B[39m indexed\u001B[38;5;241m.\u001B[39munstack(columns_listlike)  \u001B[38;5;66;03m# type: ignore[arg-type]\u001B[39;00m\n",
      "File \u001B[1;32m~\\PycharmProjects\\pythonWill\\venv\\lib\\site-packages\\pandas\\core\\frame.py:4090\u001B[0m, in \u001B[0;36mDataFrame.__getitem__\u001B[1;34m(self, key)\u001B[0m\n\u001B[0;32m   4088\u001B[0m \u001B[38;5;28;01mif\u001B[39;00m \u001B[38;5;28mself\u001B[39m\u001B[38;5;241m.\u001B[39mcolumns\u001B[38;5;241m.\u001B[39mnlevels \u001B[38;5;241m>\u001B[39m \u001B[38;5;241m1\u001B[39m:\n\u001B[0;32m   4089\u001B[0m     \u001B[38;5;28;01mreturn\u001B[39;00m \u001B[38;5;28mself\u001B[39m\u001B[38;5;241m.\u001B[39m_getitem_multilevel(key)\n\u001B[1;32m-> 4090\u001B[0m indexer \u001B[38;5;241m=\u001B[39m \u001B[38;5;28;43mself\u001B[39;49m\u001B[38;5;241;43m.\u001B[39;49m\u001B[43mcolumns\u001B[49m\u001B[38;5;241;43m.\u001B[39;49m\u001B[43mget_loc\u001B[49m\u001B[43m(\u001B[49m\u001B[43mkey\u001B[49m\u001B[43m)\u001B[49m\n\u001B[0;32m   4091\u001B[0m \u001B[38;5;28;01mif\u001B[39;00m is_integer(indexer):\n\u001B[0;32m   4092\u001B[0m     indexer \u001B[38;5;241m=\u001B[39m [indexer]\n",
      "File \u001B[1;32m~\\PycharmProjects\\pythonWill\\venv\\lib\\site-packages\\pandas\\core\\indexes\\base.py:3812\u001B[0m, in \u001B[0;36mIndex.get_loc\u001B[1;34m(self, key)\u001B[0m\n\u001B[0;32m   3807\u001B[0m     \u001B[38;5;28;01mif\u001B[39;00m \u001B[38;5;28misinstance\u001B[39m(casted_key, \u001B[38;5;28mslice\u001B[39m) \u001B[38;5;129;01mor\u001B[39;00m (\n\u001B[0;32m   3808\u001B[0m         \u001B[38;5;28misinstance\u001B[39m(casted_key, abc\u001B[38;5;241m.\u001B[39mIterable)\n\u001B[0;32m   3809\u001B[0m         \u001B[38;5;129;01mand\u001B[39;00m \u001B[38;5;28many\u001B[39m(\u001B[38;5;28misinstance\u001B[39m(x, \u001B[38;5;28mslice\u001B[39m) \u001B[38;5;28;01mfor\u001B[39;00m x \u001B[38;5;129;01min\u001B[39;00m casted_key)\n\u001B[0;32m   3810\u001B[0m     ):\n\u001B[0;32m   3811\u001B[0m         \u001B[38;5;28;01mraise\u001B[39;00m InvalidIndexError(key)\n\u001B[1;32m-> 3812\u001B[0m     \u001B[38;5;28;01mraise\u001B[39;00m \u001B[38;5;167;01mKeyError\u001B[39;00m(key) \u001B[38;5;28;01mfrom\u001B[39;00m \u001B[38;5;21;01merr\u001B[39;00m\n\u001B[0;32m   3813\u001B[0m \u001B[38;5;28;01mexcept\u001B[39;00m \u001B[38;5;167;01mTypeError\u001B[39;00m:\n\u001B[0;32m   3814\u001B[0m     \u001B[38;5;66;03m# If we have a listlike key, _check_indexing_error will raise\u001B[39;00m\n\u001B[0;32m   3815\u001B[0m     \u001B[38;5;66;03m#  InvalidIndexError. Otherwise we fall through and re-raise\u001B[39;00m\n\u001B[0;32m   3816\u001B[0m     \u001B[38;5;66;03m#  the TypeError.\u001B[39;00m\n\u001B[0;32m   3817\u001B[0m     \u001B[38;5;28mself\u001B[39m\u001B[38;5;241m.\u001B[39m_check_indexing_error(key)\n",
      "\u001B[1;31mKeyError\u001B[0m: 'is_genre'"
     ]
    }
   ],
   "source": [
    "item_df = process_item_df(\n",
    "    item_df=movie_df,\n",
    "    item_id_col='movieId'\n",
    ")"
   ]
  },
  {
   "cell_type": "code",
   "outputs": [],
   "source": [
    "item_df.head(4)"
   ],
   "metadata": {
    "collapsed": false,
    "ExecuteTime": {
     "end_time": "2024-03-22T20:07:44.432259Z",
     "start_time": "2024-03-22T20:07:44.431261Z"
    }
   },
   "id": "ed49817ac9e28513",
   "execution_count": null
  },
  {
   "cell_type": "code",
   "outputs": [],
   "source": [],
   "metadata": {
    "collapsed": false
   },
   "id": "6c8173a0c2021a10",
   "execution_count": null
  }
 ],
 "metadata": {
  "kernelspec": {
   "display_name": "Python 3 (ipykernel)",
   "language": "python",
   "name": "python3"
  },
  "language_info": {
   "codemirror_mode": {
    "name": "ipython",
    "version": 3
   },
   "file_extension": ".py",
   "mimetype": "text/x-python",
   "name": "python",
   "nbconvert_exporter": "python",
   "pygments_lexer": "ipython3",
   "version": "3.11.7"
  }
 },
 "nbformat": 4,
 "nbformat_minor": 5
}
