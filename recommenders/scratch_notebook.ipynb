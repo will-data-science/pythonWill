{
 "cells": [
  {
   "cell_type": "code",
   "execution_count": 1,
   "id": "e19003e1-bdce-44c2-9475-9a8b9a281a95",
   "metadata": {
    "ExecuteTime": {
     "end_time": "2024-03-26T00:50:30.850251Z",
     "start_time": "2024-03-26T00:50:29.501189Z"
    }
   },
   "outputs": [],
   "source": [
    "import pandas as pd\n",
    "\n",
    "# Module Imports\n",
    "from utils import *\n",
    "from local_files import data_directory"
   ]
  },
  {
   "cell_type": "code",
   "execution_count": 2,
   "id": "c248c0d0-fb88-447c-ae33-33913c6a4dcb",
   "metadata": {
    "ExecuteTime": {
     "end_time": "2024-03-26T00:50:30.866189Z",
     "start_time": "2024-03-26T00:50:30.852187Z"
    }
   },
   "outputs": [],
   "source": [
    "# Constants\n",
    "movie_data_csv = f\"{data_directory}/DataSets/movie.csv\"\n",
    "rating_data_csv = f\"{data_directory}/DataSets/rating.csv\"\n",
    "TITLE = 'title'\n",
    "UID = 'userId'\n",
    "IID = 'movieId'"
   ]
  },
  {
   "cell_type": "code",
   "execution_count": 3,
   "id": "5a8efed0-5e0a-4d84-8c74-26870add1be7",
   "metadata": {
    "ExecuteTime": {
     "end_time": "2024-03-26T00:50:48.928184Z",
     "start_time": "2024-03-26T00:50:30.868190Z"
    }
   },
   "outputs": [],
   "source": [
    "# Read Data\n",
    "movie_df = pd.read_csv(movie_data_csv)\n",
    "rating_df = pd.read_csv(rating_data_csv)"
   ]
  },
  {
   "cell_type": "code",
   "execution_count": 4,
   "id": "23ecf03f-7704-4f93-acff-70f4d7f66592",
   "metadata": {
    "ExecuteTime": {
     "end_time": "2024-03-26T00:50:49.242183Z",
     "start_time": "2024-03-26T00:50:48.935189Z"
    }
   },
   "outputs": [],
   "source": [
    "# Data Transformations etc.\n",
    "users_id = rating_df[UID].unique()\n",
    "movies_id = movie_df[IID].unique()"
   ]
  },
  {
   "cell_type": "code",
   "execution_count": 5,
   "id": "ac6344fa-c4b5-47d3-95d3-b9a4a2ec77b6",
   "metadata": {
    "ExecuteTime": {
     "end_time": "2024-03-26T00:50:49.274194Z",
     "start_time": "2024-03-26T00:50:49.245189Z"
    }
   },
   "outputs": [
    {
     "data": {
      "text/plain": "   movieId                     title  \\\n0        1          Toy Story (1995)   \n1        2            Jumanji (1995)   \n2        3   Grumpier Old Men (1995)   \n3        4  Waiting to Exhale (1995)   \n\n                                        genres  \n0  Adventure|Animation|Children|Comedy|Fantasy  \n1                   Adventure|Children|Fantasy  \n2                               Comedy|Romance  \n3                         Comedy|Drama|Romance  ",
      "text/html": "<div>\n<style scoped>\n    .dataframe tbody tr th:only-of-type {\n        vertical-align: middle;\n    }\n\n    .dataframe tbody tr th {\n        vertical-align: top;\n    }\n\n    .dataframe thead th {\n        text-align: right;\n    }\n</style>\n<table border=\"1\" class=\"dataframe\">\n  <thead>\n    <tr style=\"text-align: right;\">\n      <th></th>\n      <th>movieId</th>\n      <th>title</th>\n      <th>genres</th>\n    </tr>\n  </thead>\n  <tbody>\n    <tr>\n      <th>0</th>\n      <td>1</td>\n      <td>Toy Story (1995)</td>\n      <td>Adventure|Animation|Children|Comedy|Fantasy</td>\n    </tr>\n    <tr>\n      <th>1</th>\n      <td>2</td>\n      <td>Jumanji (1995)</td>\n      <td>Adventure|Children|Fantasy</td>\n    </tr>\n    <tr>\n      <th>2</th>\n      <td>3</td>\n      <td>Grumpier Old Men (1995)</td>\n      <td>Comedy|Romance</td>\n    </tr>\n    <tr>\n      <th>3</th>\n      <td>4</td>\n      <td>Waiting to Exhale (1995)</td>\n      <td>Comedy|Drama|Romance</td>\n    </tr>\n  </tbody>\n</table>\n</div>"
     },
     "execution_count": 5,
     "metadata": {},
     "output_type": "execute_result"
    }
   ],
   "source": [
    "movie_df.head(4)"
   ]
  },
  {
   "cell_type": "code",
   "execution_count": 6,
   "id": "1e1855b1-2e9e-4eaf-ae3c-c9e632a16663",
   "metadata": {
    "ExecuteTime": {
     "end_time": "2024-03-26T00:50:49.761185Z",
     "start_time": "2024-03-26T00:50:49.277188Z"
    }
   },
   "outputs": [],
   "source": [
    "item_df = process_item_df(\n",
    "    item_df=movie_df,\n",
    "    item_id_col=IID\n",
    ")"
   ]
  },
  {
   "cell_type": "code",
   "outputs": [
    {
     "data": {
      "text/plain": "   userId  movieId  rating            timestamp\n0       1        2     3.5  2005-04-02 23:53:47\n1       1       29     3.5  2005-04-02 23:31:16\n2       1       32     3.5  2005-04-02 23:33:39",
      "text/html": "<div>\n<style scoped>\n    .dataframe tbody tr th:only-of-type {\n        vertical-align: middle;\n    }\n\n    .dataframe tbody tr th {\n        vertical-align: top;\n    }\n\n    .dataframe thead th {\n        text-align: right;\n    }\n</style>\n<table border=\"1\" class=\"dataframe\">\n  <thead>\n    <tr style=\"text-align: right;\">\n      <th></th>\n      <th>userId</th>\n      <th>movieId</th>\n      <th>rating</th>\n      <th>timestamp</th>\n    </tr>\n  </thead>\n  <tbody>\n    <tr>\n      <th>0</th>\n      <td>1</td>\n      <td>2</td>\n      <td>3.5</td>\n      <td>2005-04-02 23:53:47</td>\n    </tr>\n    <tr>\n      <th>1</th>\n      <td>1</td>\n      <td>29</td>\n      <td>3.5</td>\n      <td>2005-04-02 23:31:16</td>\n    </tr>\n    <tr>\n      <th>2</th>\n      <td>1</td>\n      <td>32</td>\n      <td>3.5</td>\n      <td>2005-04-02 23:33:39</td>\n    </tr>\n  </tbody>\n</table>\n</div>"
     },
     "execution_count": 7,
     "metadata": {},
     "output_type": "execute_result"
    }
   ],
   "source": [
    "rating_df.head(3)"
   ],
   "metadata": {
    "collapsed": false,
    "ExecuteTime": {
     "end_time": "2024-03-26T00:50:49.793188Z",
     "start_time": "2024-03-26T00:50:49.765188Z"
    }
   },
   "id": "6c8173a0c2021a10",
   "execution_count": 7
  },
  {
   "cell_type": "code",
   "outputs": [],
   "source": [
    "item_rating_agg_df = get_agg_feature_df(\n",
    "    source_df=rating_df,\n",
    "    ui_id_col=IID,\n",
    "    agg_feature_col='rating'\n",
    ")\n",
    "\n",
    "user_rating_agg_df = get_agg_feature_df(\n",
    "    source_df=rating_df,\n",
    "    ui_id_col=UID,\n",
    "    agg_feature_col='rating'\n",
    ")"
   ],
   "metadata": {
    "collapsed": false,
    "ExecuteTime": {
     "end_time": "2024-03-26T00:50:54.750188Z",
     "start_time": "2024-03-26T00:50:49.799190Z"
    }
   },
   "id": "cb54b0dc17387ce9",
   "execution_count": 8
  },
  {
   "cell_type": "code",
   "outputs": [
    {
     "data": {
      "text/plain": "        rating_mean  rating_median  rating_std  rating_min  rating_max\nuserId                                                                \n1          3.742857            4.0    0.382284         3.0         5.0\n2          4.000000            4.0    1.064581         2.0         5.0\n3          4.122995            4.0    0.910427         1.0         5.0\n4          3.571429            4.0    0.790151         1.0         5.0\n5          4.272727            5.0    0.969464         2.0         5.0\n...             ...            ...         ...         ...         ...\n138489     3.986842            4.0    0.662579         2.0         5.0\n138490     3.556291            4.0    0.868990         1.0         5.0\n138491     2.681818            2.5    1.305168         0.5         5.0\n138492     4.097561            4.5    0.904171         1.0         5.0\n138493     4.172922            4.5    0.775284         0.5         5.0\n\n[138493 rows x 5 columns]",
      "text/html": "<div>\n<style scoped>\n    .dataframe tbody tr th:only-of-type {\n        vertical-align: middle;\n    }\n\n    .dataframe tbody tr th {\n        vertical-align: top;\n    }\n\n    .dataframe thead th {\n        text-align: right;\n    }\n</style>\n<table border=\"1\" class=\"dataframe\">\n  <thead>\n    <tr style=\"text-align: right;\">\n      <th></th>\n      <th>rating_mean</th>\n      <th>rating_median</th>\n      <th>rating_std</th>\n      <th>rating_min</th>\n      <th>rating_max</th>\n    </tr>\n    <tr>\n      <th>userId</th>\n      <th></th>\n      <th></th>\n      <th></th>\n      <th></th>\n      <th></th>\n    </tr>\n  </thead>\n  <tbody>\n    <tr>\n      <th>1</th>\n      <td>3.742857</td>\n      <td>4.0</td>\n      <td>0.382284</td>\n      <td>3.0</td>\n      <td>5.0</td>\n    </tr>\n    <tr>\n      <th>2</th>\n      <td>4.000000</td>\n      <td>4.0</td>\n      <td>1.064581</td>\n      <td>2.0</td>\n      <td>5.0</td>\n    </tr>\n    <tr>\n      <th>3</th>\n      <td>4.122995</td>\n      <td>4.0</td>\n      <td>0.910427</td>\n      <td>1.0</td>\n      <td>5.0</td>\n    </tr>\n    <tr>\n      <th>4</th>\n      <td>3.571429</td>\n      <td>4.0</td>\n      <td>0.790151</td>\n      <td>1.0</td>\n      <td>5.0</td>\n    </tr>\n    <tr>\n      <th>5</th>\n      <td>4.272727</td>\n      <td>5.0</td>\n      <td>0.969464</td>\n      <td>2.0</td>\n      <td>5.0</td>\n    </tr>\n    <tr>\n      <th>...</th>\n      <td>...</td>\n      <td>...</td>\n      <td>...</td>\n      <td>...</td>\n      <td>...</td>\n    </tr>\n    <tr>\n      <th>138489</th>\n      <td>3.986842</td>\n      <td>4.0</td>\n      <td>0.662579</td>\n      <td>2.0</td>\n      <td>5.0</td>\n    </tr>\n    <tr>\n      <th>138490</th>\n      <td>3.556291</td>\n      <td>4.0</td>\n      <td>0.868990</td>\n      <td>1.0</td>\n      <td>5.0</td>\n    </tr>\n    <tr>\n      <th>138491</th>\n      <td>2.681818</td>\n      <td>2.5</td>\n      <td>1.305168</td>\n      <td>0.5</td>\n      <td>5.0</td>\n    </tr>\n    <tr>\n      <th>138492</th>\n      <td>4.097561</td>\n      <td>4.5</td>\n      <td>0.904171</td>\n      <td>1.0</td>\n      <td>5.0</td>\n    </tr>\n    <tr>\n      <th>138493</th>\n      <td>4.172922</td>\n      <td>4.5</td>\n      <td>0.775284</td>\n      <td>0.5</td>\n      <td>5.0</td>\n    </tr>\n  </tbody>\n</table>\n<p>138493 rows × 5 columns</p>\n</div>"
     },
     "execution_count": 9,
     "metadata": {},
     "output_type": "execute_result"
    }
   ],
   "source": [
    "user_rating_agg_df\n",
    "# TODO: Add genre features like how often they watch X, watch in last 7 Days, etc."
   ],
   "metadata": {
    "collapsed": false,
    "ExecuteTime": {
     "end_time": "2024-03-26T00:50:54.780190Z",
     "start_time": "2024-03-26T00:50:54.752186Z"
    }
   },
   "id": "5ce20221dac47e93",
   "execution_count": 9
  },
  {
   "cell_type": "code",
   "outputs": [],
   "source": [
    "# def get_users(interaction_df: pd.DataFrame, user_id_col: str) -> pd.DataFrame:\n",
    "#     ret_df = interaction_df[[user_id_col]].drop_duplicates()\n",
    "#     return ret_df\n",
    "# \n",
    "# \n",
    "# def get_items(interaction_df: pd.DataFrame, item_id_col: str) -> pd.DataFrame:\n",
    "#     ret_df = interaction_df[[item_id_col]].drop_duplicates()\n",
    "#     return ret_df\n",
    "# \n",
    "# \n",
    "# def process_user_df(interaction_df: pd.DataFrame, user_id_col: str) -> pd.DataFrame:\n",
    "#     pass"
   ],
   "metadata": {
    "collapsed": false,
    "ExecuteTime": {
     "end_time": "2024-03-26T00:50:54.796185Z",
     "start_time": "2024-03-26T00:50:54.783190Z"
    }
   },
   "id": "5ce58fc760ecedf0",
   "execution_count": 10
  },
  {
   "cell_type": "code",
   "outputs": [],
   "source": [
    "targets_df = get_ratings_targets_df(\n",
    "    ratings_interaction_df=rating_df,\n",
    "    user_ratings_df=user_rating_agg_df,\n",
    "    user_id_col=UID,\n",
    "    item_id_col=IID\n",
    ")"
   ],
   "metadata": {
    "collapsed": false,
    "ExecuteTime": {
     "end_time": "2024-03-26T00:51:02.652186Z",
     "start_time": "2024-03-26T00:50:54.799189Z"
    }
   },
   "id": "8912c235d14d51dc",
   "execution_count": 11
  },
  {
   "cell_type": "code",
   "outputs": [
    {
     "data": {
      "text/plain": "        user_item_rating_mean  rating_mean  rating_median  rating_std  \\\nuserId                                                                  \n1                         3.5     3.742857            4.0    0.382284   \n1                         3.5     3.742857            4.0    0.382284   \n1                         3.5     3.742857            4.0    0.382284   \n1                         3.5     3.742857            4.0    0.382284   \n1                         3.5     3.742857            4.0    0.382284   \n...                       ...          ...            ...         ...   \n138493                    4.5     4.172922            4.5    0.775284   \n138493                    4.5     4.172922            4.5    0.775284   \n138493                    3.0     4.172922            4.5    0.775284   \n138493                    5.0     4.172922            4.5    0.775284   \n138493                    2.5     4.172922            4.5    0.775284   \n\n        rating_min  rating_max  has_interacted  rating_atleast_3  \\\nuserId                                                             \n1              3.0         5.0            True              True   \n1              3.0         5.0            True              True   \n1              3.0         5.0            True              True   \n1              3.0         5.0            True              True   \n1              3.0         5.0            True              True   \n...            ...         ...             ...               ...   \n138493         0.5         5.0            True              True   \n138493         0.5         5.0            True              True   \n138493         0.5         5.0            True              True   \n138493         0.5         5.0            True              True   \n138493         0.5         5.0            True              True   \n\n        rating_atleast_4  rating_atleast_5  rating_atleast_user_mean  \\\nuserId                                                                 \n1                   True             False                     False   \n1                   True             False                     False   \n1                   True             False                     False   \n1                   True             False                     False   \n1                   True             False                     False   \n...                  ...               ...                       ...   \n138493              True              True                      True   \n138493              True              True                      True   \n138493             False             False                     False   \n138493              True              True                      True   \n138493             False             False                     False   \n\n        rating_atleast_user_median  \nuserId                              \n1                            False  \n1                            False  \n1                            False  \n1                            False  \n1                            False  \n...                            ...  \n138493                        True  \n138493                        True  \n138493                       False  \n138493                        True  \n138493                       False  \n\n[20000263 rows x 12 columns]",
      "text/html": "<div>\n<style scoped>\n    .dataframe tbody tr th:only-of-type {\n        vertical-align: middle;\n    }\n\n    .dataframe tbody tr th {\n        vertical-align: top;\n    }\n\n    .dataframe thead th {\n        text-align: right;\n    }\n</style>\n<table border=\"1\" class=\"dataframe\">\n  <thead>\n    <tr style=\"text-align: right;\">\n      <th></th>\n      <th>user_item_rating_mean</th>\n      <th>rating_mean</th>\n      <th>rating_median</th>\n      <th>rating_std</th>\n      <th>rating_min</th>\n      <th>rating_max</th>\n      <th>has_interacted</th>\n      <th>rating_atleast_3</th>\n      <th>rating_atleast_4</th>\n      <th>rating_atleast_5</th>\n      <th>rating_atleast_user_mean</th>\n      <th>rating_atleast_user_median</th>\n    </tr>\n    <tr>\n      <th>userId</th>\n      <th></th>\n      <th></th>\n      <th></th>\n      <th></th>\n      <th></th>\n      <th></th>\n      <th></th>\n      <th></th>\n      <th></th>\n      <th></th>\n      <th></th>\n      <th></th>\n    </tr>\n  </thead>\n  <tbody>\n    <tr>\n      <th>1</th>\n      <td>3.5</td>\n      <td>3.742857</td>\n      <td>4.0</td>\n      <td>0.382284</td>\n      <td>3.0</td>\n      <td>5.0</td>\n      <td>True</td>\n      <td>True</td>\n      <td>True</td>\n      <td>False</td>\n      <td>False</td>\n      <td>False</td>\n    </tr>\n    <tr>\n      <th>1</th>\n      <td>3.5</td>\n      <td>3.742857</td>\n      <td>4.0</td>\n      <td>0.382284</td>\n      <td>3.0</td>\n      <td>5.0</td>\n      <td>True</td>\n      <td>True</td>\n      <td>True</td>\n      <td>False</td>\n      <td>False</td>\n      <td>False</td>\n    </tr>\n    <tr>\n      <th>1</th>\n      <td>3.5</td>\n      <td>3.742857</td>\n      <td>4.0</td>\n      <td>0.382284</td>\n      <td>3.0</td>\n      <td>5.0</td>\n      <td>True</td>\n      <td>True</td>\n      <td>True</td>\n      <td>False</td>\n      <td>False</td>\n      <td>False</td>\n    </tr>\n    <tr>\n      <th>1</th>\n      <td>3.5</td>\n      <td>3.742857</td>\n      <td>4.0</td>\n      <td>0.382284</td>\n      <td>3.0</td>\n      <td>5.0</td>\n      <td>True</td>\n      <td>True</td>\n      <td>True</td>\n      <td>False</td>\n      <td>False</td>\n      <td>False</td>\n    </tr>\n    <tr>\n      <th>1</th>\n      <td>3.5</td>\n      <td>3.742857</td>\n      <td>4.0</td>\n      <td>0.382284</td>\n      <td>3.0</td>\n      <td>5.0</td>\n      <td>True</td>\n      <td>True</td>\n      <td>True</td>\n      <td>False</td>\n      <td>False</td>\n      <td>False</td>\n    </tr>\n    <tr>\n      <th>...</th>\n      <td>...</td>\n      <td>...</td>\n      <td>...</td>\n      <td>...</td>\n      <td>...</td>\n      <td>...</td>\n      <td>...</td>\n      <td>...</td>\n      <td>...</td>\n      <td>...</td>\n      <td>...</td>\n      <td>...</td>\n    </tr>\n    <tr>\n      <th>138493</th>\n      <td>4.5</td>\n      <td>4.172922</td>\n      <td>4.5</td>\n      <td>0.775284</td>\n      <td>0.5</td>\n      <td>5.0</td>\n      <td>True</td>\n      <td>True</td>\n      <td>True</td>\n      <td>True</td>\n      <td>True</td>\n      <td>True</td>\n    </tr>\n    <tr>\n      <th>138493</th>\n      <td>4.5</td>\n      <td>4.172922</td>\n      <td>4.5</td>\n      <td>0.775284</td>\n      <td>0.5</td>\n      <td>5.0</td>\n      <td>True</td>\n      <td>True</td>\n      <td>True</td>\n      <td>True</td>\n      <td>True</td>\n      <td>True</td>\n    </tr>\n    <tr>\n      <th>138493</th>\n      <td>3.0</td>\n      <td>4.172922</td>\n      <td>4.5</td>\n      <td>0.775284</td>\n      <td>0.5</td>\n      <td>5.0</td>\n      <td>True</td>\n      <td>True</td>\n      <td>False</td>\n      <td>False</td>\n      <td>False</td>\n      <td>False</td>\n    </tr>\n    <tr>\n      <th>138493</th>\n      <td>5.0</td>\n      <td>4.172922</td>\n      <td>4.5</td>\n      <td>0.775284</td>\n      <td>0.5</td>\n      <td>5.0</td>\n      <td>True</td>\n      <td>True</td>\n      <td>True</td>\n      <td>True</td>\n      <td>True</td>\n      <td>True</td>\n    </tr>\n    <tr>\n      <th>138493</th>\n      <td>2.5</td>\n      <td>4.172922</td>\n      <td>4.5</td>\n      <td>0.775284</td>\n      <td>0.5</td>\n      <td>5.0</td>\n      <td>True</td>\n      <td>True</td>\n      <td>False</td>\n      <td>False</td>\n      <td>False</td>\n      <td>False</td>\n    </tr>\n  </tbody>\n</table>\n<p>20000263 rows × 12 columns</p>\n</div>"
     },
     "execution_count": 12,
     "metadata": {},
     "output_type": "execute_result"
    }
   ],
   "source": [
    "targets_df"
   ],
   "metadata": {
    "collapsed": false,
    "ExecuteTime": {
     "end_time": "2024-03-26T00:51:02.700185Z",
     "start_time": "2024-03-26T00:51:02.656184Z"
    }
   },
   "id": "28422fd3b996dbd2",
   "execution_count": 12
  },
  {
   "cell_type": "code",
   "outputs": [],
   "source": [],
   "metadata": {
    "collapsed": false
   },
   "id": "7c948c7da741bbb7"
  }
 ],
 "metadata": {
  "kernelspec": {
   "display_name": "Python 3 (ipykernel)",
   "language": "python",
   "name": "python3"
  },
  "language_info": {
   "codemirror_mode": {
    "name": "ipython",
    "version": 3
   },
   "file_extension": ".py",
   "mimetype": "text/x-python",
   "name": "python",
   "nbconvert_exporter": "python",
   "pygments_lexer": "ipython3",
   "version": "3.11.7"
  }
 },
 "nbformat": 4,
 "nbformat_minor": 5
}
